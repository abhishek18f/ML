{
 "cells": [
  {
   "cell_type": "code",
   "execution_count": 2,
   "metadata": {},
   "outputs": [],
   "source": [
    "import numpy as np\n",
    "import pandas as pd\n",
    "import matplotlib.pyplot as plt\n",
    "import utils\n",
    "from scipy.io import loadmat\n",
    "from PIL import Image\n",
    "import scipy.optimize as opt\n",
    "from scipy.optimize import minimize\n",
    "from matplotlib import pyplot"
   ]
  },
  {
   "cell_type": "code",
   "execution_count": 3,
   "metadata": {},
   "outputs": [],
   "source": [
    "data = loadmat('ex4data1.mat')\n",
    "X, y = data['X'], data['y'].ravel()\n",
    "X = np.concatenate([np.ones((y.size , 1)) ,X], axis =1)\n",
    "m = y.size\n",
    "df =  pd.DataFrame(X)\n",
    "dfX =  pd.DataFrame(X)\n",
    "df['y'] = y"
   ]
  },
  {
   "cell_type": "code",
   "execution_count": 4,
   "metadata": {},
   "outputs": [
    {
     "data": {
      "text/plain": [
       "array([[0, 0, 0, ..., 0, 0, 1],\n",
       "       [0, 0, 0, ..., 0, 0, 1],\n",
       "       [0, 0, 0, ..., 0, 0, 1],\n",
       "       ...,\n",
       "       [0, 0, 0, ..., 0, 1, 0],\n",
       "       [0, 0, 0, ..., 0, 1, 0],\n",
       "       [0, 0, 0, ..., 0, 1, 0]], dtype=uint8)"
      ]
     },
     "execution_count": 4,
     "metadata": {},
     "output_type": "execute_result"
    }
   ],
   "source": [
    "#y = y.reshape(m,1)\n",
    "#dfy = pd.DataFrame(y)\n",
    "a=pd.get_dummies(y)\n",
    "y= a.to_numpy()\n",
    "y"
   ]
  },
  {
   "cell_type": "code",
   "execution_count": 5,
   "metadata": {},
   "outputs": [],
   "source": [
    "Theta1 , Theta2 = loadmat('ex4weights.mat')['Theta1'] , loadmat('ex4weights.mat')['Theta2']\n"
   ]
  },
  {
   "cell_type": "code",
   "execution_count": 6,
   "metadata": {},
   "outputs": [],
   "source": [
    "    def sigmoid(z):                #sigmoid function\n",
    "        return 1/(1+np.exp(-z))"
   ]
  },
  {
   "cell_type": "code",
   "execution_count": 7,
   "metadata": {},
   "outputs": [],
   "source": [
    "def h(theta, X):             #hypothesis function\n",
    "    return sigmoid(np.dot(X, theta))"
   ]
  },
  {
   "cell_type": "code",
   "execution_count": 8,
   "metadata": {},
   "outputs": [],
   "source": [
    "nn_param = np.concatenate([Theta1.ravel() , Theta2.ravel()] , axis = 0)"
   ]
  },
  {
   "cell_type": "code",
   "execution_count": 9,
   "metadata": {},
   "outputs": [],
   "source": [
    "#Cost Function\n",
    "def cost_fun(theta, X ,y):\n",
    "    theta1 = np.reshape(theta[:(401*25)] , (25,401))\n",
    "    theta2 = np.reshape(theta[(401*25):] , (10,26))\n",
    "    #Forward Propagation\n",
    "    z1 = h(theta1.T, X)\n",
    "    a1 = np.concatenate([np.ones((m,1)), z1] , axis = 1)\n",
    "    a2 = h(theta2.T , a1)\n",
    "    \n",
    "    J = ((np.log(a2)*y + (1-y)*np.log(1-a2)).sum())*(-1/m)\n",
    "    return J"
   ]
  },
  {
   "cell_type": "code",
   "execution_count": 10,
   "metadata": {},
   "outputs": [],
   "source": [
    "def cost_func_reg(theta, X, y , lambd):\n",
    "    theta1 = np.reshape(theta[:(401*25)] , (25,401))\n",
    "    theta2 = np.reshape(theta[(401*25):] , (10,26))\n",
    "    #Forward Propagation\n",
    "    z1 = h(theta1.T, X)\n",
    "    a1 = np.concatenate([np.ones((m,1)), z1] , axis = 1)\n",
    "    a2 = h(theta2.T , a1)\n",
    "    \n",
    "    cost = ((np.log(a2)*y + (1-y)*np.log(1-a2)).sum())*(-1/m)\n",
    "    J_reg = cost + (np.square(theta1[:,1:]).sum() + np.square(theta2[:,1:]).sum())*(lambd/(2*m))\n",
    "    \n",
    "    #Backpropagation\n",
    "    d2 = a2 -y\n",
    "    d1 = (np.dot(d2,theta2)*a1*(1-a1))[:,1:]\n",
    "    delta2 = np.dot(d2.T, a1)\n",
    "    delta1 = np.dot(d1.T, X)\n",
    "\n",
    "    D2  = (delta2 + lambd*theta2)/m\n",
    "    D2[:,0:1] = delta2[:,0:1]/m\n",
    "    \n",
    "    D1 = (delta1 + lambd*theta1)/m\n",
    "    D1[:,0:1] = delta1[:,0:1]/m\n",
    "    \n",
    "    d_ravel = np.concatenate([D1.ravel() , D2.ravel()], axis=0)\n",
    "    \n",
    "    return J_reg ,d_ravel"
   ]
  },
  {
   "cell_type": "code",
   "execution_count": 11,
   "metadata": {},
   "outputs": [],
   "source": [
    "def sigmoidGradient(z):\n",
    "    return sigmoid(z)*(1-sigmoid(z))"
   ]
  },
  {
   "cell_type": "markdown",
   "metadata": {},
   "source": [
    "#Numerical Gradient\n",
    "def computeNumericalGradient(J,X,y,lambd, theta, e=1e-4):\n",
    "    numgrad = np.zeros(theta.shape)\n",
    "    perturb = np.diag(e * np.ones(theta.shape))\n",
    "    for i in range(theta.size):\n",
    "        loss1 = J(theta - perturb[:, i],X,y,lambd)[0]\n",
    "        loss2 = J(theta + perturb[:, i] , X, y, lambd)[0]\n",
    "        numgrad[i] = (loss2 - loss1)/(2*e)\n",
    "    return numgrad"
   ]
  },
  {
   "cell_type": "code",
   "execution_count": 12,
   "metadata": {},
   "outputs": [],
   "source": [
    "#num_cost = computeNumericalGradient(cost_func_reg,X,y , 1, nn_param)\n",
    "#num_cost.tolist()"
   ]
  },
  {
   "cell_type": "code",
   "execution_count": 13,
   "metadata": {},
   "outputs": [],
   "source": [
    "J = lambda p : cost_func_reg(p, X, y , 10)"
   ]
  },
  {
   "cell_type": "code",
   "execution_count": 14,
   "metadata": {},
   "outputs": [],
   "source": [
    "options = {'maxiter': 1000 , 'disp': True}\n",
    "res = minimize(J, nn_param , jac = True,  method = 'TNC', options= options)"
   ]
  },
  {
   "cell_type": "code",
   "execution_count": 15,
   "metadata": {},
   "outputs": [
    {
     "data": {
      "text/plain": [
       "array([ 6.03795630e-01, -1.26475410e-15,  2.62293707e-16, ...,\n",
       "        1.83304003e-01,  6.14555755e-01, -8.68440526e-01])"
      ]
     },
     "execution_count": 15,
     "metadata": {},
     "output_type": "execute_result"
    }
   ],
   "source": [
    "nn_param = res.x\n",
    "nn_param"
   ]
  },
  {
   "cell_type": "code",
   "execution_count": 16,
   "metadata": {},
   "outputs": [
    {
     "data": {
      "text/plain": [
       "(0.9851644543572782,\n",
       " array([-3.53486118e-07, -2.52950821e-18,  5.24587414e-19, ...,\n",
       "         3.06826961e-07,  5.96176950e-07,  1.10065448e-07]))"
      ]
     },
     "execution_count": 16,
     "metadata": {},
     "output_type": "execute_result"
    }
   ],
   "source": [
    "cost_func_reg(nn_param, X, y , 10)"
   ]
  },
  {
   "cell_type": "code",
   "execution_count": 17,
   "metadata": {},
   "outputs": [],
   "source": [
    "def final_predict(theta, X, y ):\n",
    "    theta1 = np.reshape(theta[:(401*25)] , (25,401))\n",
    "    theta2 = np.reshape(theta[(401*25):] , (10,26))\n",
    "    #Forward Propagation\n",
    "    z1 = h(theta1.T, X)\n",
    "    a1 = np.concatenate([np.ones((m,1)), z1] , axis = 1)\n",
    "    a2 = h(theta2.T , a1)\n",
    "    \n",
    "    return a2.argmax(axis = 1) + 1"
   ]
  },
  {
   "cell_type": "code",
   "execution_count": 18,
   "metadata": {},
   "outputs": [
    {
     "data": {
      "text/plain": [
       "array([10, 10, 10, ...,  9,  9,  9])"
      ]
     },
     "execution_count": 18,
     "metadata": {},
     "output_type": "execute_result"
    }
   ],
   "source": [
    "final_prefict = final_predict(nn_param, X, y )\n",
    "final_prefict"
   ]
  },
  {
   "cell_type": "code",
   "execution_count": 19,
   "metadata": {},
   "outputs": [
    {
     "data": {
      "text/plain": [
       "array([10, 10, 10, ...,  9,  9,  9], dtype=uint8)"
      ]
     },
     "execution_count": 19,
     "metadata": {},
     "output_type": "execute_result"
    }
   ],
   "source": [
    "x_original = data['X']\n",
    "y_original = data['y'].ravel()\n",
    "y_original\n"
   ]
  },
  {
   "cell_type": "code",
   "execution_count": 20,
   "metadata": {},
   "outputs": [],
   "source": [
    "def accuracy(hypothesis, y):\n",
    "    return y[y==hypothesis].size/m"
   ]
  },
  {
   "cell_type": "code",
   "execution_count": 21,
   "metadata": {},
   "outputs": [
    {
     "data": {
      "text/plain": [
       "0.9418"
      ]
     },
     "execution_count": 21,
     "metadata": {},
     "output_type": "execute_result"
    }
   ],
   "source": [
    "accuracy(final_prefict, y_original)"
   ]
  },
  {
   "cell_type": "code",
   "execution_count": 32,
   "metadata": {},
   "outputs": [],
   "source": [
    "def displayData(X, example_width=None, figsize=(10, 10)):\n",
    "    \"\"\"\n",
    "    Displays 2D data stored in X in a nice grid.\n",
    "    \"\"\"\n",
    "    # Compute rows, cols\n",
    "    if X.ndim == 2:\n",
    "        m, n = X.shape\n",
    "    elif X.ndim == 1:\n",
    "        n = X.size\n",
    "        m = 1\n",
    "        X = X[None]  # Promote to a 2 dimensional array\n",
    "    else:\n",
    "        raise IndexError('Input X should be 1 or 2 dimensional.')\n",
    "\n",
    "    example_width = example_width or int(np.round(np.sqrt(n)))\n",
    "    example_height = n / example_width\n",
    "\n",
    "    # Compute number of items to display\n",
    "    display_rows = int(np.floor(np.sqrt(m)))\n",
    "    display_cols = int(np.ceil(m / display_rows))\n",
    "\n",
    "    fig, ax_array = pyplot.subplots(display_rows, display_cols, figsize=figsize)\n",
    "    fig.subplots_adjust(wspace=0.025, hspace=0.025)\n",
    "\n",
    "    ax_array = [ax_array] if m == 1 else ax_array.ravel()\n",
    "\n",
    "    for i, ax in enumerate(ax_array):\n",
    "        # Display Image\n",
    "        h = ax.imshow(X[i].reshape(example_width, example_width, order='F'),\n",
    "                      cmap='Greys', extent=[0, 1, 0, 1])\n",
    "        ax.axis('off')"
   ]
  },
  {
   "cell_type": "code",
   "execution_count": 33,
   "metadata": {},
   "outputs": [
    {
     "data": {
      "image/png": "[encoded data removed]",
      "text/plain": [
       "<Figure size 720x720 with 20 Axes>"
      ]
     },
     "metadata": {
      "needs_background": "light"
     },
     "output_type": "display_data"
    }
   ],
   "source": [
    "selected_rows = np.random.choice(m ,20 , replace= False)\n",
    "selected_x = x_original[selected_rows, :]\n",
    "displayData(selected_x)"
   ]
  },
  {
   "cell_type": "code",
   "execution_count": 34,
   "metadata": {},
   "outputs": [],
   "source": [
    "def randInitializeWeights(L_in, L_out, epsilon_init=0.12):\n",
    "    \"\"\"\n",
    "    Randomly initialize the weights of a layer in a neural network.\n",
    "    \n",
    "    Parameters\n",
    "    ----------\n",
    "    L_in : int\n",
    "        Number of incomming connections.\n",
    "    \n",
    "    L_out : int\n",
    "        Number of outgoing connections. \n",
    "    \n",
    "    epsilon_init : float, optional\n",
    "        Range of values which the weight can take from a uniform \n",
    "        distribution.\n",
    "    \n",
    "    Returns\n",
    "    -------\n",
    "    W : array_like\n",
    "        The weight initialiatized to random values.  Note that W should\n",
    "        be set to a matrix of size(L_out, 1 + L_in) as\n",
    "        the first column of W handles the \"bias\" terms.\n",
    "        \n",
    "    Instructions\n",
    "    ------------\n",
    "    Initialize W randomly so that we break the symmetry while training\n",
    "    the neural network. Note that the first column of W corresponds \n",
    "    to the parameters for the bias unit.\n",
    "    \"\"\"\n",
    "\n",
    "    # You need to return the following variables correctly \n",
    "    W = np.zeros((L_out, 1 + L_in))\n",
    "\n",
    "    W = np.random.rand(L_out, 1 + L_in) * 2 * epsilon_init - epsilon_init\n",
    "    \n",
    "    return W\n",
    "\n"
   ]
  },
  {
   "cell_type": "code",
   "execution_count": 35,
   "metadata": {},
   "outputs": [
    {
     "data": {
      "image/png": "[encoded data removed]",
      "text/plain": [
       "<Figure size 720x720 with 20 Axes>"
      ]
     },
     "metadata": {
      "needs_background": "light"
     },
     "output_type": "display_data"
    }
   ],
   "source": [
    "    display_rows = int(np.floor(np.sqrt(20)))\n",
    "    display_cols = int(np.ceil(20 / display_rows))\n",
    "\n",
    "    fig, ax_array = pyplot.subplots(display_rows, display_cols, figsize=(10,10))\n",
    "    "
   ]
  },
  {
   "cell_type": "code",
   "execution_count": 43,
   "metadata": {},
   "outputs": [
    {
     "data": {
      "text/plain": [
       "(0.0, 1.0, 0.0, 1.0)"
      ]
     },
     "execution_count": 43,
     "metadata": {},
     "output_type": "execute_result"
    }
   ],
   "source": [
    "h = ax_array[0,0].imshow(np.random.rand(20,20),cmap='Greys', extent=[0, 1, 0, 1] )\n",
    "ax_array[0,0].axis('off')"
   ]
  },
  {
   "cell_type": "code",
   "execution_count": 131,
   "metadata": {},
   "outputs": [
    {
     "data": {
      "text/plain": [
       "array([[ 0.00000000e+00,  0.00000000e+00,  0.00000000e+00,\n",
       "         0.00000000e+00,  0.00000000e+00,  0.00000000e+00,\n",
       "         0.00000000e+00,  0.00000000e+00,  0.00000000e+00,\n",
       "         0.00000000e+00,  0.00000000e+00,  0.00000000e+00,\n",
       "         0.00000000e+00,  0.00000000e+00,  0.00000000e+00,\n",
       "         0.00000000e+00,  0.00000000e+00,  0.00000000e+00,\n",
       "         0.00000000e+00,  0.00000000e+00],\n",
       "       [ 0.00000000e+00,  0.00000000e+00,  0.00000000e+00,\n",
       "         0.00000000e+00,  0.00000000e+00,  0.00000000e+00,\n",
       "         0.00000000e+00,  0.00000000e+00,  0.00000000e+00,\n",
       "         0.00000000e+00,  0.00000000e+00,  0.00000000e+00,\n",
       "         0.00000000e+00,  0.00000000e+00,  0.00000000e+00,\n",
       "         0.00000000e+00,  0.00000000e+00,  0.00000000e+00,\n",
       "         0.00000000e+00,  0.00000000e+00],\n",
       "       [ 0.00000000e+00,  0.00000000e+00,  0.00000000e+00,\n",
       "         0.00000000e+00,  0.00000000e+00,  0.00000000e+00,\n",
       "         0.00000000e+00,  0.00000000e+00,  0.00000000e+00,\n",
       "         3.22856793e-04, -9.15576210e-04, -2.53532265e-02,\n",
       "        -3.85931128e-02, -3.84044678e-02, -1.93746688e-02,\n",
       "         3.90933920e-04,  8.19371408e-05,  0.00000000e+00,\n",
       "         0.00000000e+00,  0.00000000e+00],\n",
       "       [ 0.00000000e+00,  0.00000000e+00,  0.00000000e+00,\n",
       "         0.00000000e+00,  0.00000000e+00,  0.00000000e+00,\n",
       "         0.00000000e+00,  1.17402470e-04, -8.24754902e-04,\n",
       "        -7.05284926e-03, -1.09662139e-02,  1.96883340e-01,\n",
       "         3.20908867e-01,  3.18912394e-01,  1.41719652e-01,\n",
       "        -1.56820193e-02, -2.65063317e-04,  3.30194448e-05,\n",
       "         0.00000000e+00,  0.00000000e+00],\n",
       "       [ 0.00000000e+00,  0.00000000e+00,  0.00000000e+00,\n",
       "         0.00000000e+00,  0.00000000e+00,  0.00000000e+00,\n",
       "         2.45098039e-04, -1.96159961e-03, -1.20715891e-02,\n",
       "         5.62372345e-03,  2.90347478e-01,  8.64413041e-01,\n",
       "         9.88390846e-01,  9.85526535e-01,  7.99468444e-01,\n",
       "         1.56723175e-01, -1.74198325e-02,  5.39317598e-04,\n",
       "         0.00000000e+00,  0.00000000e+00],\n",
       "       [ 0.00000000e+00,  0.00000000e+00,  0.00000000e+00,\n",
       "         0.00000000e+00,  0.00000000e+00,  2.38522588e-17,\n",
       "        -1.08847358e-03, -2.90722793e-02,  2.35753608e-01,\n",
       "         7.92536322e-01,  1.00266258e+00,  1.05862132e+00,\n",
       "         8.76247129e-01,  9.29120694e-01,  1.06343234e+00,\n",
       "         7.31781386e-01,  3.59943151e-02, -1.31336370e-02,\n",
       "         4.04241558e-04,  0.00000000e+00],\n",
       "       [ 0.00000000e+00,  0.00000000e+00,  0.00000000e+00,\n",
       "         0.00000000e+00,  2.45098039e-04, -1.08847358e-03,\n",
       "        -3.02730120e-02,  2.22924174e-01,  8.56914097e-01,\n",
       "         1.00723112e+00,  4.52620660e-01,  4.22602805e-01,\n",
       "         1.82431498e-01,  2.29894182e-01,  7.63649901e-01,\n",
       "         9.83978673e-01,  4.54453908e-01, -1.25295544e-03,\n",
       "        -4.18113426e-03,  0.00000000e+00],\n",
       "       [ 0.00000000e+00,  0.00000000e+00,  0.00000000e+00,\n",
       "         1.95670784e-05, -1.18788472e-03, -1.45840807e-02,\n",
       "         2.27772733e-01,  8.49794333e-01,  1.03787200e+00,\n",
       "         5.89619682e-01, -4.63046078e-02, -5.30524642e-02,\n",
       "        -2.38986844e-02, -6.55092026e-02,  4.97592825e-01,\n",
       "         1.01926148e+00,  9.17334223e-01,  1.06986866e-01,\n",
       "        -1.69564361e-02,  0.00000000e+00],\n",
       "       [ 0.00000000e+00,  0.00000000e+00,  0.00000000e+00,\n",
       "        -9.16564542e-05, -1.67706121e-02,  1.15367579e-01,\n",
       "         8.06616524e-01,  1.02730740e+00,  7.50930573e-01,\n",
       "         1.01062687e-01, -2.01214937e-02,  1.34701797e-04,\n",
       "         0.00000000e+00, -1.90195057e-02,  2.72716469e-01,\n",
       "         9.73519029e-01,  9.89230358e-01,  1.34740430e-01,\n",
       "        -1.98124319e-02,  0.00000000e+00],\n",
       "       [ 0.00000000e+00,  0.00000000e+00,  0.00000000e+00,\n",
       "        -8.66166258e-04, -2.72397706e-02,  4.07026008e-01,\n",
       "         1.01467490e+00,  8.12184787e-01,  9.60610532e-02,\n",
       "         4.99268110e-04,  8.88480392e-06, -4.68750000e-05,\n",
       "         8.80518528e-05, -2.97574551e-02,  4.51886268e-01,\n",
       "         1.02012866e+00,  7.17333725e-01,  4.56954975e-02,\n",
       "        -1.02456087e-02,  0.00000000e+00],\n",
       "       [ 0.00000000e+00,  3.31857514e-18,  9.78353920e-04,\n",
       "        -1.79511846e-02,  8.23780467e-02,  8.85095537e-01,\n",
       "         1.01910405e+00,  8.77518531e-01,  5.05646276e-01,\n",
       "         2.22961023e-01, -8.77200776e-03, -7.87837010e-04,\n",
       "         9.95475113e-04, -4.42252349e-02,  5.57143689e-01,\n",
       "         1.02120044e+00,  4.57385961e-01, -1.32357527e-02,\n",
       "        -3.22933687e-03,  0.00000000e+00],\n",
       "       [ 0.00000000e+00,  4.30623638e-04, -1.41265134e-02,\n",
       "         5.47903561e-02,  5.13331563e-01,  9.86177730e-01,\n",
       "         1.00378859e+00,  1.02784066e+00,  8.81669237e-01,\n",
       "         1.75647535e-01, -2.02476171e-02,  1.37016612e-04,\n",
       "        -2.60476200e-02,  1.41610890e-01,  8.07201287e-01,\n",
       "         7.40654480e-01,  9.93945568e-02, -1.73559985e-02,\n",
       "         2.28758170e-04,  0.00000000e+00],\n",
       "       [ 0.00000000e+00, -6.68558830e-03,  2.27848153e-02,\n",
       "         5.18736667e-01,  9.43501199e-01,  9.50583768e-01,\n",
       "         9.06830915e-01,  8.26161357e-01,  2.59302617e-01,\n",
       "        -8.14776881e-03, -2.08012311e-03, -1.69574892e-02,\n",
       "        -1.98703986e-02,  5.62824199e-01,  9.66719253e-01,\n",
       "         2.69194081e-01, -2.92052403e-02,  1.07273151e-03,\n",
       "         0.00000000e+00,  0.00000000e+00],\n",
       "       [ 0.00000000e+00, -2.18887868e-02,  1.52704282e-01,\n",
       "         1.05740831e+00,  1.00747316e+00,  6.90700963e-01,\n",
       "         3.15753472e-01,  2.88350828e-01,  5.17292688e-02,\n",
       "        -3.85486792e-02, -3.64513889e-02,  5.55434368e-02,\n",
       "         5.03607069e-01,  9.99676777e-01,  4.99540543e-01,\n",
       "        -2.16885042e-02, -2.08379289e-03,  6.11471200e-05,\n",
       "         0.00000000e+00,  0.00000000e+00],\n",
       "       [ 0.00000000e+00, -9.33091639e-03,  4.37851596e-02,\n",
       "         6.25597750e-01,  9.98682683e-01,  9.47196708e-01,\n",
       "         8.44518263e-01,  8.65640839e-01,  7.60129596e-01,\n",
       "         5.74255498e-01,  5.76234835e-01,  7.58724282e-01,\n",
       "         1.03109059e+00,  6.83323734e-01,  8.16175279e-02,\n",
       "        -1.06374251e-02, -1.62173203e-04,  0.00000000e+00,\n",
       "         0.00000000e+00,  0.00000000e+00],\n",
       "       [ 0.00000000e+00,  3.84497549e-04, -1.98596164e-02,\n",
       "         1.09942981e-01,  6.48968835e-01,  7.75507115e-01,\n",
       "         7.76910846e-01,  7.73937959e-01,  7.70750272e-01,\n",
       "         7.68581240e-01,  7.71992017e-01,  7.83497838e-01,\n",
       "         6.10717494e-01,  6.84297045e-02, -1.89090584e-02,\n",
       "         3.23529412e-04,  3.58455882e-05,  0.00000000e+00,\n",
       "         0.00000000e+00,  0.00000000e+00],\n",
       "       [ 0.00000000e+00,  3.21691176e-05,  3.98118707e-04,\n",
       "        -8.11094090e-03,  5.67306645e-03,  1.52478554e-02,\n",
       "         1.39710989e-02,  1.40424531e-02,  1.47417279e-02,\n",
       "         1.56728452e-02,  1.54803411e-02,  1.53017940e-02,\n",
       "         2.51445450e-03, -8.21090346e-03,  3.38235294e-04,\n",
       "         3.58455882e-05,  0.00000000e+00,  0.00000000e+00,\n",
       "         0.00000000e+00,  0.00000000e+00],\n",
       "       [ 0.00000000e+00,  0.00000000e+00,  3.90527968e-05,\n",
       "        -1.03134809e-04, -4.63169051e-03, -6.26391097e-03,\n",
       "        -6.06579430e-03, -6.06579430e-03, -6.06579430e-03,\n",
       "        -6.06579430e-03, -6.06579430e-03, -6.19216502e-03,\n",
       "        -4.07939006e-03,  1.26370715e-04,  0.00000000e+00,\n",
       "         0.00000000e+00,  0.00000000e+00,  0.00000000e+00,\n",
       "         0.00000000e+00,  0.00000000e+00],\n",
       "       [ 0.00000000e+00,  0.00000000e+00,  0.00000000e+00,\n",
       "         0.00000000e+00,  0.00000000e+00,  0.00000000e+00,\n",
       "         0.00000000e+00,  0.00000000e+00,  0.00000000e+00,\n",
       "         0.00000000e+00,  0.00000000e+00,  0.00000000e+00,\n",
       "         0.00000000e+00,  0.00000000e+00,  0.00000000e+00,\n",
       "         0.00000000e+00,  0.00000000e+00,  0.00000000e+00,\n",
       "         0.00000000e+00,  0.00000000e+00],\n",
       "       [ 0.00000000e+00,  0.00000000e+00,  0.00000000e+00,\n",
       "         0.00000000e+00,  0.00000000e+00,  0.00000000e+00,\n",
       "         0.00000000e+00,  0.00000000e+00,  0.00000000e+00,\n",
       "         0.00000000e+00,  0.00000000e+00,  0.00000000e+00,\n",
       "         0.00000000e+00,  0.00000000e+00,  0.00000000e+00,\n",
       "         0.00000000e+00,  0.00000000e+00,  0.00000000e+00,\n",
       "         0.00000000e+00,  0.00000000e+00]])"
      ]
     },
     "execution_count": 131,
     "metadata": {},
     "output_type": "execute_result"
    }
   ],
   "source": [
    "x_original[1].reshape(20,20)"
   ]
  },
  {
   "cell_type": "code",
   "execution_count": 40,
   "metadata": {},
   "outputs": [
    {
     "data": {
      "text/plain": [
       "array([[0.49026671, 0.86313031, 0.64754521, 0.26454669, 0.74353703,\n",
       "        0.85743917, 0.7992672 , 0.38797745, 0.50696431, 0.13674903,\n",
       "        0.7688515 , 0.47392419, 0.06277271, 0.60198685, 0.3451113 ,\n",
       "        0.10869654, 0.64943572, 0.83215064, 0.89162014, 0.87895843],\n",
       "       [0.38636638, 0.0434137 , 0.67888823, 0.46975097, 0.88019467,\n",
       "        0.3976795 , 0.92974851, 0.62980593, 0.48327719, 0.06111764,\n",
       "        0.18721543, 0.30730166, 0.9311813 , 0.03738654, 0.35235   ,\n",
       "        0.94557343, 0.65895594, 0.37420395, 0.45450522, 0.39317394],\n",
       "       [0.97137463, 0.23585942, 0.93985378, 0.3953769 , 0.83698881,\n",
       "        0.62904754, 0.71938043, 0.67920775, 0.64335568, 0.65446686,\n",
       "        0.3160932 , 0.30557873, 0.99961936, 0.31345374, 0.0668912 ,\n",
       "        0.56455032, 0.13637689, 0.36739287, 0.60494208, 0.60227766],\n",
       "       [0.74760217, 0.08687285, 0.89437396, 0.78347701, 0.26590943,\n",
       "        0.57987167, 0.2204479 , 0.07711755, 0.57030825, 0.04233673,\n",
       "        0.63821405, 0.71835183, 0.09703357, 0.97608728, 0.71470197,\n",
       "        0.58488679, 0.57620822, 0.54947078, 0.37523521, 0.527979  ],\n",
       "       [0.30403276, 0.98195761, 0.64176958, 0.30506741, 0.80477607,\n",
       "        0.73987842, 0.82339343, 0.89280037, 0.65574236, 0.44253307,\n",
       "        0.13608317, 0.92678701, 0.24085122, 0.41368799, 0.55948817,\n",
       "        0.53756043, 0.94763636, 0.61170999, 0.19796733, 0.55490578],\n",
       "       [0.2112102 , 0.93941795, 0.78850575, 0.75682165, 0.62174038,\n",
       "        0.12379235, 0.14638324, 0.35576609, 0.99953957, 0.83396181,\n",
       "        0.59734   , 0.14013722, 0.65655047, 0.72530928, 0.84718577,\n",
       "        0.82179607, 0.97366557, 0.31341402, 0.01357631, 0.49648265],\n",
       "       [0.12953902, 0.19866756, 0.86749902, 0.00894465, 0.32658761,\n",
       "        0.5101873 , 0.68866126, 0.32285936, 0.08401527, 0.98669484,\n",
       "        0.9722246 , 0.38618461, 0.79711172, 0.79580697, 0.27789605,\n",
       "        0.07858012, 0.08418896, 0.22528658, 0.75863868, 0.89282153],\n",
       "       [0.77378256, 0.73391233, 0.95900779, 0.04192594, 0.38847827,\n",
       "        0.81423923, 0.05595822, 0.07824033, 0.06505   , 0.05539611,\n",
       "        0.73613808, 0.44034654, 0.63059296, 0.54271761, 0.02401498,\n",
       "        0.3899007 , 0.0717792 , 0.76509409, 0.91416439, 0.83181295],\n",
       "       [0.82398348, 0.92248226, 0.09863865, 0.74268782, 0.07293724,\n",
       "        0.04426275, 0.73397114, 0.64505317, 0.56123441, 0.10767404,\n",
       "        0.92907098, 0.81961514, 0.83621401, 0.30254364, 0.16290671,\n",
       "        0.99278236, 0.44692563, 0.38951902, 0.7157327 , 0.06320685],\n",
       "       [0.96204786, 0.79393609, 0.39949619, 0.97379779, 0.57468052,\n",
       "        0.54999757, 0.55766511, 0.45052038, 0.51781972, 0.09084313,\n",
       "        0.61652078, 0.19895224, 0.34206167, 0.1421988 , 0.64998391,\n",
       "        0.92280312, 0.03916738, 0.67554176, 0.97630354, 0.75603375],\n",
       "       [0.04904455, 0.62644533, 0.16320021, 0.23269715, 0.68492895,\n",
       "        0.63152316, 0.54673206, 0.04820143, 0.34654354, 0.0435425 ,\n",
       "        0.97276025, 0.4396554 , 0.43733551, 0.07640468, 0.40388511,\n",
       "        0.68154079, 0.33538477, 0.27386094, 0.41040921, 0.50542679],\n",
       "       [0.20800561, 0.56386641, 0.39385668, 0.89333631, 0.59365302,\n",
       "        0.90340465, 0.89033795, 0.73445347, 0.78668615, 0.03697442,\n",
       "        0.15447052, 0.12244394, 0.03115043, 0.11733014, 0.09564095,\n",
       "        0.67348122, 0.58860541, 0.65196574, 0.10341432, 0.79613646],\n",
       "       [0.77477314, 0.77849864, 0.81232898, 0.99388162, 0.73666585,\n",
       "        0.04443089, 0.06413365, 0.9419345 , 0.89254151, 0.01950952,\n",
       "        0.49292527, 0.23584122, 0.35523098, 0.68423274, 0.25363658,\n",
       "        0.82994935, 0.74760191, 0.07002607, 0.03798874, 0.38239144],\n",
       "       [0.14255113, 0.24009791, 0.2325663 , 0.14898869, 0.39732988,\n",
       "        0.82826752, 0.35326589, 0.44890971, 0.93032046, 0.66905917,\n",
       "        0.29179258, 0.22343124, 0.65573174, 0.51854512, 0.77188901,\n",
       "        0.58305076, 0.22054224, 0.19901863, 0.79407816, 0.55547065],\n",
       "       [0.21552009, 0.47188859, 0.68707706, 0.77207622, 0.78978284,\n",
       "        0.62418719, 0.68745918, 0.10550978, 0.99094961, 0.92450747,\n",
       "        0.33825391, 0.2348752 , 0.27154312, 0.12601486, 0.59111986,\n",
       "        0.02558916, 0.51672798, 0.21766165, 0.31070027, 0.79735796],\n",
       "       [0.77969819, 0.66993103, 0.26379752, 0.32677953, 0.10807938,\n",
       "        0.1298641 , 0.45478195, 0.08114615, 0.97555848, 0.29049304,\n",
       "        0.47840218, 0.95164967, 0.12740858, 0.42745857, 0.38399446,\n",
       "        0.48905307, 0.93726855, 0.38222994, 0.48153186, 0.93406674],\n",
       "       [0.3673527 , 0.06986016, 0.44368618, 0.61807989, 0.81750124,\n",
       "        0.43990633, 0.03862672, 0.07951374, 0.9160825 , 0.13280124,\n",
       "        0.8163753 , 0.91379303, 0.99313672, 0.78096812, 0.1376685 ,\n",
       "        0.61843608, 0.4067589 , 0.46317026, 0.97911747, 0.8934738 ],\n",
       "       [0.08290162, 0.11299584, 0.93774251, 0.83233328, 0.44291187,\n",
       "        0.73469529, 0.53020502, 0.17151428, 0.13393004, 0.30726195,\n",
       "        0.97989643, 0.17335109, 0.53063696, 0.77768671, 0.53243819,\n",
       "        0.30629831, 0.86361397, 0.10686105, 0.13486289, 0.93074766],\n",
       "       [0.36475555, 0.4896061 , 0.08621918, 0.45973955, 0.00178539,\n",
       "        0.25720518, 0.90523837, 0.40948557, 0.41729417, 0.26007597,\n",
       "        0.50763117, 0.78810636, 0.76768178, 0.36605345, 0.84028641,\n",
       "        0.72605539, 0.75867368, 0.52426218, 0.99421328, 0.23750395],\n",
       "       [0.12552764, 0.9989417 , 0.72660205, 0.28161872, 0.04524685,\n",
       "        0.60866941, 0.48487155, 0.61963157, 0.48802326, 0.28984961,\n",
       "        0.02898837, 0.24993784, 0.95567917, 0.59589792, 0.61230715,\n",
       "        0.62038977, 0.85919542, 0.6350218 , 0.93660369, 0.7508105 ]])"
      ]
     },
     "execution_count": 40,
     "metadata": {},
     "output_type": "execute_result"
    }
   ],
   "source": [
    "np.random.rand(20,20)"
   ]
  },
  {
   "cell_type": "code",
   "execution_count": null,
   "metadata": {},
   "outputs": [],
   "source": []
  }
 ],
 "metadata": {
  "kernelspec": {
   "display_name": "Python 3",
   "language": "python",
   "name": "python3"
  },
  "language_info": {
   "codemirror_mode": {
    "name": "ipython",
    "version": 3
   },
   "file_extension": ".py",
   "mimetype": "text/x-python",
   "name": "python",
   "nbconvert_exporter": "python",
   "pygments_lexer": "ipython3",
   "version": "3.6.9"
  }
 },
 "nbformat": 4,
 "nbformat_minor": 2
}
