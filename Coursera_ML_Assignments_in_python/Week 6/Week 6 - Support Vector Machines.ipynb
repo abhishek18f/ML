{
 "cells": [
  {
   "cell_type": "code",
   "execution_count": 340,
   "metadata": {},
   "outputs": [],
   "source": [
    "import numpy as np\n",
    "import pandas as pd \n",
    "import matplotlib.pyplot as plt\n",
    "from sklearn import svm\n",
    "from sklearn import datasets\n",
    "from scipy.io import loadmat\n",
    "import re"
   ]
  },
  {
   "cell_type": "markdown",
   "metadata": {},
   "source": [
    "## Dataset_1"
   ]
  },
  {
   "cell_type": "code",
   "execution_count": 88,
   "metadata": {},
   "outputs": [],
   "source": [
    "data = loadmat('ex6data1.mat')\n",
    "X , y = data['X'] , data['y'].ravel() "
   ]
  },
  {
   "cell_type": "code",
   "execution_count": 89,
   "metadata": {},
   "outputs": [
    {
     "data": {
      "text/plain": [
       "102"
      ]
     },
     "execution_count": 89,
     "metadata": {},
     "output_type": "execute_result"
    }
   ],
   "source": [
    "m = X.size\n",
    "m"
   ]
  },
  {
   "cell_type": "code",
   "execution_count": 90,
   "metadata": {},
   "outputs": [
    {
     "data": {
      "text/plain": [
       "<matplotlib.legend.Legend at 0x7f63c9ed5438>"
      ]
     },
     "execution_count": 90,
     "metadata": {},
     "output_type": "execute_result"
    },
    {
     "data": {
      "image/png": "[encoded data removed]",
      "text/plain": [
       "<Figure size 432x288 with 1 Axes>"
      ]
     },
     "metadata": {
      "needs_background": "light"
     },
     "output_type": "display_data"
    }
   ],
   "source": [
    "plt.scatter(X[y==1][:,0], X[y==1][:,1], marker='+', label='positive')\n",
    "plt.scatter(X[y==0][:,0], X[y==0][:,1], marker='x', label='negative', color='red')\n",
    "plt.legend()"
   ]
  },
  {
   "cell_type": "code",
   "execution_count": 91,
   "metadata": {},
   "outputs": [
    {
     "data": {
      "text/plain": [
       "SVC(C=1.0, cache_size=200, class_weight=None, coef0=0.0,\n",
       "    decision_function_shape='ovr', degree=3, gamma='auto_deprecated',\n",
       "    kernel='linear', max_iter=-1, probability=False, random_state=None,\n",
       "    shrinking=True, tol=0.001, verbose=False)"
      ]
     },
     "execution_count": 91,
     "metadata": {},
     "output_type": "execute_result"
    }
   ],
   "source": [
    "#SVM Classifier\n",
    "clf = svm.SVC(kernel='linear')\n",
    "clf"
   ]
  },
  {
   "cell_type": "code",
   "execution_count": 92,
   "metadata": {},
   "outputs": [
    {
     "data": {
      "text/plain": [
       "SVC(C=1.0, cache_size=200, class_weight=None, coef0=0.0,\n",
       "    decision_function_shape='ovr', degree=3, gamma='auto_deprecated',\n",
       "    kernel='linear', max_iter=-1, probability=False, random_state=None,\n",
       "    shrinking=True, tol=0.001, verbose=False)"
      ]
     },
     "execution_count": 92,
     "metadata": {},
     "output_type": "execute_result"
    }
   ],
   "source": [
    "clf.fit(X ,y)"
   ]
  },
  {
   "cell_type": "code",
   "execution_count": 93,
   "metadata": {},
   "outputs": [
    {
     "data": {
      "text/plain": [
       "array([[1.5841  , 3.3575  ],\n",
       "       [2.0103  , 3.2039  ],\n",
       "       [2.3099  , 2.9584  ],\n",
       "       [2.8283  , 2.6309  ],\n",
       "       [1.3191  , 3.5109  ],\n",
       "       [2.5403  , 2.8867  ],\n",
       "       [3.5772  , 2.856   ],\n",
       "       [3.1048  , 3.0709  ],\n",
       "       [1.9182  , 4.0534  ],\n",
       "       [2.6555  , 3.5008  ],\n",
       "       [3.0357  , 3.3165  ],\n",
       "       [0.086405, 4.1045  ]])"
      ]
     },
     "execution_count": 93,
     "metadata": {},
     "output_type": "execute_result"
    }
   ],
   "source": [
    "clf.support_vectors_"
   ]
  },
  {
   "cell_type": "code",
   "execution_count": 94,
   "metadata": {},
   "outputs": [],
   "source": [
    "vals = clf.predict(X)"
   ]
  },
  {
   "cell_type": "code",
   "execution_count": 95,
   "metadata": {},
   "outputs": [
    {
     "data": {
      "text/plain": [
       "array([1, 1, 1, 1, 1, 1, 1, 1, 1, 1, 1, 1, 1, 1, 1, 1, 1, 1, 1, 1, 0, 0,\n",
       "       0, 0, 0, 0, 0, 0, 0, 0, 0, 0, 0, 0, 0, 0, 0, 0, 0, 0, 0, 0, 0, 0,\n",
       "       0, 0, 0, 0, 0, 0, 0], dtype=uint8)"
      ]
     },
     "execution_count": 95,
     "metadata": {},
     "output_type": "execute_result"
    }
   ],
   "source": [
    "vals"
   ]
  },
  {
   "cell_type": "code",
   "execution_count": 96,
   "metadata": {},
   "outputs": [
    {
     "data": {
      "text/plain": [
       "array([1, 1, 1, 1, 1, 1, 1, 1, 1, 1, 1, 1, 1, 1, 1, 1, 1, 1, 1, 1, 0, 0,\n",
       "       0, 0, 0, 0, 0, 0, 0, 0, 0, 0, 0, 0, 0, 0, 0, 0, 0, 0, 0, 0, 0, 0,\n",
       "       0, 0, 0, 0, 0, 0, 1], dtype=uint8)"
      ]
     },
     "execution_count": 96,
     "metadata": {},
     "output_type": "execute_result"
    }
   ],
   "source": [
    "y"
   ]
  },
  {
   "cell_type": "code",
   "execution_count": 97,
   "metadata": {},
   "outputs": [
    {
     "data": {
      "text/plain": [
       "array([1.40718563, 2.13398052])"
      ]
     },
     "execution_count": 97,
     "metadata": {},
     "output_type": "execute_result"
    }
   ],
   "source": [
    "w  = clf.coef_.ravel()\n",
    "w"
   ]
  },
  {
   "cell_type": "code",
   "execution_count": 98,
   "metadata": {},
   "outputs": [],
   "source": [
    "b = clf.intercept_"
   ]
  },
  {
   "cell_type": "code",
   "execution_count": 99,
   "metadata": {},
   "outputs": [],
   "source": [
    "yy = (-w[0]/w[1])*X[:,0] -b/w[1]"
   ]
  },
  {
   "cell_type": "code",
   "execution_count": 103,
   "metadata": {},
   "outputs": [
    {
     "data": {
      "image/png": "[encoded data removed]",
      "text/plain": [
       "<Figure size 432x288 with 1 Axes>"
      ]
     },
     "metadata": {
      "needs_background": "light"
     },
     "output_type": "display_data"
    }
   ],
   "source": [
    "plt.plot(X[:,0], yy, label = 'SVM Boundary')\n",
    "plt.scatter(X[y==1][:,0], X[y==1][:,1], marker='+', label='positive')\n",
    "plt.scatter(X[y==0][:,0], X[y==0][:,1], marker='x', label='negative', color='red')\n",
    "plt.legend()\n",
    "plt.title('SVM Boundary with C=1')\n",
    "plt.savefig('SVM Boundary with C=1')"
   ]
  },
  {
   "cell_type": "code",
   "execution_count": 102,
   "metadata": {
    "scrolled": true
   },
   "outputs": [
    {
     "data": {
      "image/png": "[encoded data removed]",
      "text/plain": [
       "<Figure size 720x720 with 1 Axes>"
      ]
     },
     "metadata": {
      "needs_background": "light"
     },
     "output_type": "display_data"
    }
   ],
   "source": [
    "plt.figure(figsize=(10,10))\n",
    "for c in range(1,101,10):\n",
    "    clf100 = svm.SVC(kernel='linear', C =c)\n",
    "    clf100.fit(X ,y)\n",
    "    w100  = clf100.coef_.ravel()\n",
    "    b100 = clf100.intercept_\n",
    "    yy100 = (-w100[0]/w100[1])*X[:,0] -b100/w100[1]\n",
    "    plt.plot(X[:,0], yy100, label = 'SVM Boundary')\n",
    "    plt.scatter(X[y==1][:,0], X[y==1][:,1], marker='+', label='positive')\n",
    "    plt.scatter(X[y==0][:,0], X[y==0][:,1], marker='x', label='negative', color='red')\n",
    "    #plt.legend()\n",
    "    plt.title('SVM Boundary variation with C ')\n",
    "    plt.savefig('SVM Boundary variation with C ')\n",
    "    #'SVM Boundary with C=' + str(c)"
   ]
  },
  {
   "cell_type": "code",
   "execution_count": null,
   "metadata": {},
   "outputs": [],
   "source": []
  },
  {
   "cell_type": "markdown",
   "metadata": {},
   "source": [
    "## Dataset_2"
   ]
  },
  {
   "cell_type": "code",
   "execution_count": 284,
   "metadata": {},
   "outputs": [
    {
     "data": {
      "text/plain": [
       "863"
      ]
     },
     "execution_count": 284,
     "metadata": {},
     "output_type": "execute_result"
    }
   ],
   "source": [
    "data2 = loadmat('ex6data2.mat')\n",
    "X2, y2 = data2['X'] , data2['y'].ravel()\n",
    "m = y2.size\n",
    "m"
   ]
  },
  {
   "cell_type": "code",
   "execution_count": 285,
   "metadata": {},
   "outputs": [
    {
     "data": {
      "text/plain": [
       "array([0, 1], dtype=uint8)"
      ]
     },
     "execution_count": 285,
     "metadata": {},
     "output_type": "execute_result"
    }
   ],
   "source": [
    "np.unique(y2)"
   ]
  },
  {
   "cell_type": "code",
   "execution_count": 286,
   "metadata": {},
   "outputs": [
    {
     "data": {
      "text/plain": [
       "<matplotlib.legend.Legend at 0x7f63c3270898>"
      ]
     },
     "execution_count": 286,
     "metadata": {},
     "output_type": "execute_result"
    },
    {
     "data": {
      "image/png": "[encoded data removed]",
      "text/plain": [
       "<Figure size 432x288 with 1 Axes>"
      ]
     },
     "metadata": {
      "needs_background": "light"
     },
     "output_type": "display_data"
    }
   ],
   "source": [
    "plt.scatter(X2[y2==1][:,0], X2[y2==1][:,1], marker='+', label='positive')\n",
    "plt.scatter(X2[y2==0][:,0], X2[y2==0][:,1], marker='x', label='negative', color='red')\n",
    "plt.legend()\n",
    "\n",
    "#No linear Kernel possible"
   ]
  },
  {
   "cell_type": "code",
   "execution_count": 287,
   "metadata": {},
   "outputs": [],
   "source": [
    "#Using Gaussian Kernel\n"
   ]
  },
  {
   "cell_type": "code",
   "execution_count": 296,
   "metadata": {},
   "outputs": [],
   "source": [
    "def plot_contour(X2 ,y2,kernel='rbf', C=1, gamma =1):\n",
    "    clf2 = svm.SVC(C=C, gamma = gamma, kernel=kernel)\n",
    "    clf2.fit(X2,y2)\n",
    "    x0_min , x0_max = X2[:,0].min()-0.2 , X2[:,0].max()+0.2\n",
    "    x1_min , x1_max = X2[:,1].min()-0.2 , X2[:,1].max()+0.2\n",
    "    h = -(x0_min - x0_max)/1000\n",
    "    xx, yy = np.meshgrid(np.arange(x0_min , x0_max, h), np.arange(x1_min , x1_max , h))\n",
    "    Z = clf2.predict(np.c_[xx.ravel() , yy.ravel()])\n",
    "    plt.contourf(xx , yy , Z.reshape(xx.shape), cmap=plt.cm.Paired, alpha=0.8)\n",
    "    plt.scatter(X2[y2==1][:,0], X2[y2==1][:,1], marker='+', label='positive')\n",
    "    plt.scatter(X2[y2==0][:,0], X2[y2==0][:,1], marker='x', label='negative', color='red')\n",
    "    plt.legend()\n",
    "    plt.title('Contour_plot with C=' +str(C) + ' and gamma=' + str(gamma))\n",
    "    plt.savefig('Contour_plot with C=' +str(C)+ ' and gamma=' + str(gamma))"
   ]
  },
  {
   "cell_type": "code",
   "execution_count": 297,
   "metadata": {},
   "outputs": [
    {
     "data": {
      "image/png": "[encoded data removed]",
      "text/plain": [
       "<Figure size 432x288 with 1 Axes>"
      ]
     },
     "metadata": {
      "needs_background": "light"
     },
     "output_type": "display_data"
    }
   ],
   "source": [
    "plot_contour(X ,y, 'linear', 100)"
   ]
  },
  {
   "cell_type": "code",
   "execution_count": 298,
   "metadata": {},
   "outputs": [
    {
     "data": {
      "image/png": "[encoded data removed]",
      "text/plain": [
       "<Figure size 432x288 with 1 Axes>"
      ]
     },
     "metadata": {
      "needs_background": "light"
     },
     "output_type": "display_data"
    }
   ],
   "source": [
    "plot_contour(X ,y, 'linear', 1)\n"
   ]
  },
  {
   "cell_type": "code",
   "execution_count": 300,
   "metadata": {},
   "outputs": [
    {
     "data": {
      "image/png": "[encoded data removed]",
      "text/plain": [
       "<Figure size 432x288 with 1 Axes>"
      ]
     },
     "metadata": {
      "needs_background": "light"
     },
     "output_type": "display_data"
    }
   ],
   "source": [
    "plot_contour(X ,y, C=100)"
   ]
  },
  {
   "cell_type": "code",
   "execution_count": 302,
   "metadata": {},
   "outputs": [
    {
     "data": {
      "image/png": "[encoded data removed]",
      "text/plain": [
       "<Figure size 432x288 with 1 Axes>"
      ]
     },
     "metadata": {
      "needs_background": "light"
     },
     "output_type": "display_data"
    }
   ],
   "source": [
    "plot_contour(X2 ,y2 ,'rbf', 50,8)"
   ]
  },
  {
   "cell_type": "code",
   "execution_count": 303,
   "metadata": {},
   "outputs": [
    {
     "data": {
      "image/png": "[encoded data removed]",
      "text/plain": [
       "<Figure size 432x288 with 1 Axes>"
      ]
     },
     "metadata": {
      "needs_background": "light"
     },
     "output_type": "display_data"
    }
   ],
   "source": [
    "plot_contour(X2 ,y2 ,'rbf', 1,8)"
   ]
  },
  {
   "cell_type": "code",
   "execution_count": 304,
   "metadata": {},
   "outputs": [
    {
     "data": {
      "image/png": "[encoded data removed]",
      "text/plain": [
       "<Figure size 432x288 with 1 Axes>"
      ]
     },
     "metadata": {
      "needs_background": "light"
     },
     "output_type": "display_data"
    }
   ],
   "source": [
    "plot_contour(X2 ,y2 ,'rbf', 50,1)"
   ]
  },
  {
   "cell_type": "code",
   "execution_count": 274,
   "metadata": {},
   "outputs": [
    {
     "name": "stderr",
     "output_type": "stream",
     "text": [
      "/home/abhishek/anaconda3/lib/python3.6/site-packages/sklearn/svm/base.py:193: FutureWarning: The default value of gamma will change from 'auto' to 'scale' in version 0.22 to account better for unscaled features. Set gamma explicitly to 'auto' or 'scale' to avoid this warning.\n",
      "  \"avoid this warning.\", FutureWarning)\n"
     ]
    },
    {
     "data": {
      "text/plain": [
       "SVC(C=1.0, cache_size=200, class_weight=None, coef0=0.0,\n",
       "    decision_function_shape='ovr', degree=3, gamma='auto_deprecated',\n",
       "    kernel='rbf', max_iter=-1, probability=False, random_state=None,\n",
       "    shrinking=True, tol=0.001, verbose=False)"
      ]
     },
     "execution_count": 274,
     "metadata": {},
     "output_type": "execute_result"
    }
   ],
   "source": [
    "data3 = loadmat('ex6data3.mat')\n",
    "X3, y3 = data3['X'] , data3['y'].ravel()\n",
    "m = y3.size\n"
   ]
  },
  {
   "cell_type": "code",
   "execution_count": 305,
   "metadata": {},
   "outputs": [
    {
     "data": {
      "image/png": "[encoded data removed]",
      "text/plain": [
       "<Figure size 432x288 with 1 Axes>"
      ]
     },
     "metadata": {
      "needs_background": "light"
     },
     "output_type": "display_data"
    }
   ],
   "source": [
    "plot_contour(X3 ,y3 ,'linear')"
   ]
  },
  {
   "cell_type": "code",
   "execution_count": 308,
   "metadata": {},
   "outputs": [
    {
     "data": {
      "image/png": "[encoded data removed]",
      "text/plain": [
       "<Figure size 432x288 with 1 Axes>"
      ]
     },
     "metadata": {
      "needs_background": "light"
     },
     "output_type": "display_data"
    }
   ],
   "source": [
    "plot_contour(X3 ,y3 ,'rbf')"
   ]
  },
  {
   "cell_type": "code",
   "execution_count": 307,
   "metadata": {},
   "outputs": [
    {
     "data": {
      "image/png": "[encoded data removed]",
      "text/plain": [
       "<Figure size 432x288 with 1 Axes>"
      ]
     },
     "metadata": {
      "needs_background": "light"
     },
     "output_type": "display_data"
    }
   ],
   "source": [
    "plot_contour(X3 ,y3 ,'rbf', C = 100)"
   ]
  },
  {
   "cell_type": "code",
   "execution_count": null,
   "metadata": {},
   "outputs": [],
   "source": []
  },
  {
   "cell_type": "markdown",
   "metadata": {},
   "source": [
    "#                                 SPAM CLASSIFIER "
   ]
  },
  {
   "cell_type": "code",
   "execution_count": 377,
   "metadata": {},
   "outputs": [
    {
     "data": {
      "text/plain": [
       "['aa',\n",
       " 'ab',\n",
       " 'abil',\n",
       " 'abl',\n",
       " 'about',\n",
       " 'abov',\n",
       " 'absolut',\n",
       " 'abus',\n",
       " 'ac',\n",
       " 'accept',\n",
       " 'access',\n",
       " 'accord',\n",
       " 'account',\n",
       " 'achiev',\n",
       " 'acquir',\n",
       " 'across',\n",
       " 'act',\n",
       " 'action',\n",
       " 'activ',\n",
       " 'actual',\n",
       " 'ad',\n",
       " 'adam',\n",
       " 'add',\n",
       " 'addit',\n",
       " 'address',\n",
       " 'administr',\n",
       " 'adult',\n",
       " 'advanc',\n",
       " 'advantag',\n",
       " 'advertis',\n",
       " 'advic',\n",
       " 'advis',\n",
       " 'ae',\n",
       " 'af',\n",
       " 'affect',\n",
       " 'affili',\n",
       " 'afford',\n",
       " 'africa',\n",
       " 'after',\n",
       " 'ag',\n",
       " 'again',\n",
       " 'against',\n",
       " 'agenc',\n",
       " 'agent',\n",
       " 'ago',\n",
       " 'agre',\n",
       " 'agreement',\n",
       " 'aid',\n",
       " 'air',\n",
       " 'al',\n",
       " 'alb',\n",
       " 'align',\n",
       " 'all',\n",
       " 'allow',\n",
       " 'almost',\n",
       " 'alon',\n",
       " 'along',\n",
       " 'alreadi',\n",
       " 'alsa',\n",
       " 'also',\n",
       " 'altern',\n",
       " 'although',\n",
       " 'alwai',\n",
       " 'am',\n",
       " 'amaz',\n",
       " 'america',\n",
       " 'american',\n",
       " 'among',\n",
       " 'amount',\n",
       " 'amp',\n",
       " 'an',\n",
       " 'analysi',\n",
       " 'analyst',\n",
       " 'and',\n",
       " 'ani',\n",
       " 'anim',\n",
       " 'announc',\n",
       " 'annual',\n",
       " 'annuiti',\n",
       " 'anoth',\n",
       " 'answer',\n",
       " 'anti',\n",
       " 'anumb',\n",
       " 'anybodi',\n",
       " 'anymor',\n",
       " 'anyon',\n",
       " 'anyth',\n",
       " 'anywai',\n",
       " 'anywher',\n",
       " 'aol',\n",
       " 'ap',\n",
       " 'apolog',\n",
       " 'app',\n",
       " 'appar',\n",
       " 'appear',\n",
       " 'appl',\n",
       " 'appli',\n",
       " 'applic',\n",
       " 'appreci',\n",
       " 'approach',\n",
       " 'approv',\n",
       " 'apt',\n",
       " 'ar',\n",
       " 'archiv',\n",
       " 'area',\n",
       " 'aren',\n",
       " 'argument',\n",
       " 'arial',\n",
       " 'arm',\n",
       " 'around',\n",
       " 'arrai',\n",
       " 'arriv',\n",
       " 'art',\n",
       " 'articl',\n",
       " 'artist',\n",
       " 'as',\n",
       " 'ascii',\n",
       " 'ask',\n",
       " 'asset',\n",
       " 'assist',\n",
       " 'associ',\n",
       " 'assum',\n",
       " 'assur',\n",
       " 'at',\n",
       " 'atol',\n",
       " 'attach',\n",
       " 'attack',\n",
       " 'attempt',\n",
       " 'attent',\n",
       " 'attornei',\n",
       " 'attract',\n",
       " 'audio',\n",
       " 'aug',\n",
       " 'august',\n",
       " 'author',\n",
       " 'auto',\n",
       " 'autom',\n",
       " 'automat',\n",
       " 'avail',\n",
       " 'averag',\n",
       " 'avoid',\n",
       " 'awai',\n",
       " 'awar',\n",
       " 'award',\n",
       " 'ba',\n",
       " 'babi',\n",
       " 'back',\n",
       " 'background',\n",
       " 'backup',\n",
       " 'bad',\n",
       " 'balanc',\n",
       " 'ban',\n",
       " 'bank',\n",
       " 'bar',\n",
       " 'base',\n",
       " 'basenumb',\n",
       " 'basi',\n",
       " 'basic',\n",
       " 'bb',\n",
       " 'bc',\n",
       " 'bd',\n",
       " 'be',\n",
       " 'beat',\n",
       " 'beberg',\n",
       " 'becaus',\n",
       " 'becom',\n",
       " 'been',\n",
       " 'befor',\n",
       " 'begin',\n",
       " 'behalf',\n",
       " 'behavior',\n",
       " 'behind',\n",
       " 'believ',\n",
       " 'below',\n",
       " 'benefit',\n",
       " 'best',\n",
       " 'beta',\n",
       " 'better',\n",
       " 'between',\n",
       " 'bf',\n",
       " 'big',\n",
       " 'bill',\n",
       " 'billion',\n",
       " 'bin',\n",
       " 'binari',\n",
       " 'bit',\n",
       " 'black',\n",
       " 'blank',\n",
       " 'block',\n",
       " 'blog',\n",
       " 'blood',\n",
       " 'blue',\n",
       " 'bnumber',\n",
       " 'board',\n",
       " 'bodi',\n",
       " 'boi',\n",
       " 'bonu',\n",
       " 'book',\n",
       " 'boot',\n",
       " 'border',\n",
       " 'boss',\n",
       " 'boston',\n",
       " 'botan',\n",
       " 'both',\n",
       " 'bottl',\n",
       " 'bottom',\n",
       " 'boundari',\n",
       " 'box',\n",
       " 'brain',\n",
       " 'brand',\n",
       " 'break',\n",
       " 'brian',\n",
       " 'bring',\n",
       " 'broadcast',\n",
       " 'broker',\n",
       " 'browser',\n",
       " 'bug',\n",
       " 'bui',\n",
       " 'build',\n",
       " 'built',\n",
       " 'bulk',\n",
       " 'burn',\n",
       " 'bush',\n",
       " 'busi',\n",
       " 'but',\n",
       " 'button',\n",
       " 'by',\n",
       " 'byte',\n",
       " 'ca',\n",
       " 'cabl',\n",
       " 'cach',\n",
       " 'calcul',\n",
       " 'california',\n",
       " 'call',\n",
       " 'came',\n",
       " 'camera',\n",
       " 'campaign',\n",
       " 'can',\n",
       " 'canada',\n",
       " 'cannot',\n",
       " 'canon',\n",
       " 'capabl',\n",
       " 'capillari',\n",
       " 'capit',\n",
       " 'car',\n",
       " 'card',\n",
       " 'care',\n",
       " 'career',\n",
       " 'carri',\n",
       " 'cartridg',\n",
       " 'case',\n",
       " 'cash',\n",
       " 'cat',\n",
       " 'catch',\n",
       " 'categori',\n",
       " 'caus',\n",
       " 'cb',\n",
       " 'cc',\n",
       " 'cd',\n",
       " 'ce',\n",
       " 'cell',\n",
       " 'cent',\n",
       " 'center',\n",
       " 'central',\n",
       " 'centuri',\n",
       " 'ceo',\n",
       " 'certain',\n",
       " 'certainli',\n",
       " 'cf',\n",
       " 'challeng',\n",
       " 'chanc',\n",
       " 'chang',\n",
       " 'channel',\n",
       " 'char',\n",
       " 'charact',\n",
       " 'charg',\n",
       " 'charset',\n",
       " 'chat',\n",
       " 'cheap',\n",
       " 'check',\n",
       " 'cheer',\n",
       " 'chief',\n",
       " 'children',\n",
       " 'china',\n",
       " 'chip',\n",
       " 'choic',\n",
       " 'choos',\n",
       " 'chri',\n",
       " 'citi',\n",
       " 'citizen',\n",
       " 'civil',\n",
       " 'claim',\n",
       " 'class',\n",
       " 'classifi',\n",
       " 'clean',\n",
       " 'clear',\n",
       " 'clearli',\n",
       " 'click',\n",
       " 'client',\n",
       " 'close',\n",
       " 'clue',\n",
       " 'cnet',\n",
       " 'cnumber',\n",
       " 'co',\n",
       " 'code',\n",
       " 'collect',\n",
       " 'colleg',\n",
       " 'color',\n",
       " 'com',\n",
       " 'combin',\n",
       " 'come',\n",
       " 'comfort',\n",
       " 'command',\n",
       " 'comment',\n",
       " 'commentari',\n",
       " 'commerci',\n",
       " 'commiss',\n",
       " 'commit',\n",
       " 'common',\n",
       " 'commun',\n",
       " 'compani',\n",
       " 'compar',\n",
       " 'comparison',\n",
       " 'compat',\n",
       " 'compet',\n",
       " 'competit',\n",
       " 'compil',\n",
       " 'complet',\n",
       " 'comprehens',\n",
       " 'comput',\n",
       " 'concentr',\n",
       " 'concept',\n",
       " 'concern',\n",
       " 'condit',\n",
       " 'conf',\n",
       " 'confer',\n",
       " 'confid',\n",
       " 'confidenti',\n",
       " 'config',\n",
       " 'configur',\n",
       " 'confirm',\n",
       " 'conflict',\n",
       " 'confus',\n",
       " 'congress',\n",
       " 'connect',\n",
       " 'consid',\n",
       " 'consolid',\n",
       " 'constitut',\n",
       " 'construct',\n",
       " 'consult',\n",
       " 'consum',\n",
       " 'contact',\n",
       " 'contain',\n",
       " 'content',\n",
       " 'continu',\n",
       " 'contract',\n",
       " 'contribut',\n",
       " 'control',\n",
       " 'conveni',\n",
       " 'convers',\n",
       " 'convert',\n",
       " 'cool',\n",
       " 'cooper',\n",
       " 'copi',\n",
       " 'copyright',\n",
       " 'core',\n",
       " 'corpor',\n",
       " 'correct',\n",
       " 'correspond',\n",
       " 'cost',\n",
       " 'could',\n",
       " 'couldn',\n",
       " 'count',\n",
       " 'countri',\n",
       " 'coupl',\n",
       " 'cours',\n",
       " 'court',\n",
       " 'cover',\n",
       " 'coverag',\n",
       " 'crash',\n",
       " 'creat',\n",
       " 'creativ',\n",
       " 'credit',\n",
       " 'critic',\n",
       " 'cross',\n",
       " 'cultur',\n",
       " 'current',\n",
       " 'custom',\n",
       " 'cut',\n",
       " 'cv',\n",
       " 'da',\n",
       " 'dagga',\n",
       " 'dai',\n",
       " 'daili',\n",
       " 'dan',\n",
       " 'danger',\n",
       " 'dark',\n",
       " 'data',\n",
       " 'databas',\n",
       " 'datapow',\n",
       " 'date',\n",
       " 'dave',\n",
       " 'david',\n",
       " 'dc',\n",
       " 'de',\n",
       " 'dead',\n",
       " 'deal',\n",
       " 'dear',\n",
       " 'death',\n",
       " 'debt',\n",
       " 'decad',\n",
       " 'decid',\n",
       " 'decis',\n",
       " 'declar',\n",
       " 'declin',\n",
       " 'decor',\n",
       " 'default',\n",
       " 'defend',\n",
       " 'defens',\n",
       " 'defin',\n",
       " 'definit',\n",
       " 'degre',\n",
       " 'delai',\n",
       " 'delet',\n",
       " 'deliv',\n",
       " 'deliveri',\n",
       " 'dell',\n",
       " 'demand',\n",
       " 'democrat',\n",
       " 'depart',\n",
       " 'depend',\n",
       " 'deposit',\n",
       " 'describ',\n",
       " 'descript',\n",
       " 'deserv',\n",
       " 'design',\n",
       " 'desir',\n",
       " 'desktop',\n",
       " 'despit',\n",
       " 'detail',\n",
       " 'detect',\n",
       " 'determin',\n",
       " 'dev',\n",
       " 'devel',\n",
       " 'develop',\n",
       " 'devic',\n",
       " 'di',\n",
       " 'dial',\n",
       " 'did',\n",
       " 'didn',\n",
       " 'diet',\n",
       " 'differ',\n",
       " 'difficult',\n",
       " 'digit',\n",
       " 'direct',\n",
       " 'directli',\n",
       " 'director',\n",
       " 'directori',\n",
       " 'disabl',\n",
       " 'discount',\n",
       " 'discov',\n",
       " 'discoveri',\n",
       " 'discuss',\n",
       " 'disk',\n",
       " 'displai',\n",
       " 'disposit',\n",
       " 'distanc',\n",
       " 'distribut',\n",
       " 'dn',\n",
       " 'dnumber',\n",
       " 'do',\n",
       " 'doc',\n",
       " 'document',\n",
       " 'doe',\n",
       " 'doer',\n",
       " 'doesn',\n",
       " 'dollar',\n",
       " 'dollarac',\n",
       " 'dollarnumb',\n",
       " 'domain',\n",
       " 'don',\n",
       " 'done',\n",
       " 'dont',\n",
       " 'doubl',\n",
       " 'doubt',\n",
       " 'down',\n",
       " 'download',\n",
       " 'dr',\n",
       " 'draw',\n",
       " 'dream',\n",
       " 'drive',\n",
       " 'driver',\n",
       " 'drop',\n",
       " 'drug',\n",
       " 'due',\n",
       " 'dure',\n",
       " 'dvd',\n",
       " 'dw',\n",
       " 'dynam',\n",
       " 'ea',\n",
       " 'each',\n",
       " 'earli',\n",
       " 'earlier',\n",
       " 'earn',\n",
       " 'earth',\n",
       " 'easi',\n",
       " 'easier',\n",
       " 'easili',\n",
       " 'eat',\n",
       " 'eb',\n",
       " 'ebai',\n",
       " 'ec',\n",
       " 'echo',\n",
       " 'econom',\n",
       " 'economi',\n",
       " 'ed',\n",
       " 'edg',\n",
       " 'edit',\n",
       " 'editor',\n",
       " 'educ',\n",
       " 'eff',\n",
       " 'effect',\n",
       " 'effici',\n",
       " 'effort',\n",
       " 'either',\n",
       " 'el',\n",
       " 'electron',\n",
       " 'elimin',\n",
       " 'els',\n",
       " 'email',\n",
       " 'emailaddr',\n",
       " 'emerg',\n",
       " 'empir',\n",
       " 'employ',\n",
       " 'employe',\n",
       " 'en',\n",
       " 'enabl',\n",
       " 'encod',\n",
       " 'encourag',\n",
       " 'end',\n",
       " 'enemi',\n",
       " 'enenkio',\n",
       " 'energi',\n",
       " 'engin',\n",
       " 'english',\n",
       " 'enhanc',\n",
       " 'enjoi',\n",
       " 'enough',\n",
       " 'ensur',\n",
       " 'enter',\n",
       " 'enterpris',\n",
       " 'entertain',\n",
       " 'entir',\n",
       " 'entri',\n",
       " 'enumb',\n",
       " 'environ',\n",
       " 'equal',\n",
       " 'equip',\n",
       " 'equival',\n",
       " 'error',\n",
       " 'especi',\n",
       " 'essenti',\n",
       " 'establish',\n",
       " 'estat',\n",
       " 'estim',\n",
       " 'et',\n",
       " 'etc',\n",
       " 'euro',\n",
       " 'europ',\n",
       " 'european',\n",
       " 'even',\n",
       " 'event',\n",
       " 'eventu',\n",
       " 'ever',\n",
       " 'everi',\n",
       " 'everyon',\n",
       " 'everyth',\n",
       " 'evid',\n",
       " 'evil',\n",
       " 'exactli',\n",
       " 'exampl',\n",
       " 'excel',\n",
       " 'except',\n",
       " 'exchang',\n",
       " 'excit',\n",
       " 'exclus',\n",
       " 'execut',\n",
       " 'exercis',\n",
       " 'exist',\n",
       " 'exmh',\n",
       " 'expand',\n",
       " 'expect',\n",
       " 'expens',\n",
       " 'experi',\n",
       " 'expert',\n",
       " 'expir',\n",
       " 'explain',\n",
       " 'explor',\n",
       " 'express',\n",
       " 'extend',\n",
       " 'extens',\n",
       " 'extra',\n",
       " 'extract',\n",
       " 'extrem',\n",
       " 'ey',\n",
       " 'fa',\n",
       " 'face',\n",
       " 'fact',\n",
       " 'factor',\n",
       " 'fail',\n",
       " 'fair',\n",
       " 'fall',\n",
       " 'fals',\n",
       " 'famili',\n",
       " 'faq',\n",
       " 'far',\n",
       " 'fast',\n",
       " 'faster',\n",
       " 'fastest',\n",
       " 'fat',\n",
       " 'father',\n",
       " 'favorit',\n",
       " 'fax',\n",
       " 'fb',\n",
       " 'fd',\n",
       " 'featur',\n",
       " 'feder',\n",
       " 'fee',\n",
       " 'feed',\n",
       " 'feedback',\n",
       " 'feel',\n",
       " 'femal',\n",
       " 'few',\n",
       " 'ffffff',\n",
       " 'ffnumber',\n",
       " 'field',\n",
       " 'fight',\n",
       " 'figur',\n",
       " 'file',\n",
       " 'fill',\n",
       " 'film',\n",
       " 'filter',\n",
       " 'final',\n",
       " 'financ',\n",
       " 'financi',\n",
       " 'find',\n",
       " 'fine',\n",
       " 'finish',\n",
       " 'fire',\n",
       " 'firewal',\n",
       " 'firm',\n",
       " 'first',\n",
       " 'fit',\n",
       " 'five',\n",
       " 'fix',\n",
       " 'flag',\n",
       " 'flash',\n",
       " 'flow',\n",
       " 'fnumber',\n",
       " 'focu',\n",
       " 'folder',\n",
       " 'folk',\n",
       " 'follow',\n",
       " 'font',\n",
       " 'food',\n",
       " 'for',\n",
       " 'forc',\n",
       " 'foreign',\n",
       " 'forev',\n",
       " 'forget',\n",
       " 'fork',\n",
       " 'form',\n",
       " 'format',\n",
       " 'former',\n",
       " 'fortun',\n",
       " 'forward',\n",
       " 'found',\n",
       " 'foundat',\n",
       " 'four',\n",
       " 'franc',\n",
       " 'free',\n",
       " 'freedom',\n",
       " 'french',\n",
       " 'freshrpm',\n",
       " 'fri',\n",
       " 'fridai',\n",
       " 'friend',\n",
       " 'from',\n",
       " 'front',\n",
       " 'ftoc',\n",
       " 'ftp',\n",
       " 'full',\n",
       " 'fulli',\n",
       " 'fun',\n",
       " 'function',\n",
       " 'fund',\n",
       " 'further',\n",
       " 'futur',\n",
       " 'ga',\n",
       " 'gain',\n",
       " 'game',\n",
       " 'gari',\n",
       " 'garrigu',\n",
       " 'gave',\n",
       " 'gcc',\n",
       " 'geek',\n",
       " 'gener',\n",
       " 'get',\n",
       " 'gif',\n",
       " 'gift',\n",
       " 'girl',\n",
       " 'give',\n",
       " 'given',\n",
       " 'global',\n",
       " 'gnome',\n",
       " 'gnu',\n",
       " 'gnupg',\n",
       " 'go',\n",
       " 'goal',\n",
       " 'god',\n",
       " 'goe',\n",
       " 'gold',\n",
       " 'gone',\n",
       " 'good',\n",
       " 'googl',\n",
       " 'got',\n",
       " 'govern',\n",
       " 'gpl',\n",
       " 'grand',\n",
       " 'grant',\n",
       " 'graphic',\n",
       " 'great',\n",
       " 'greater',\n",
       " 'ground',\n",
       " 'group',\n",
       " 'grow',\n",
       " 'growth',\n",
       " 'gt',\n",
       " 'guarante',\n",
       " 'guess',\n",
       " 'gui',\n",
       " 'guid',\n",
       " 'ha',\n",
       " 'hack',\n",
       " 'had',\n",
       " 'half',\n",
       " 'ham',\n",
       " 'hand',\n",
       " 'handl',\n",
       " 'happen',\n",
       " 'happi',\n",
       " 'hard',\n",
       " 'hardwar',\n",
       " 'hat',\n",
       " 'hate',\n",
       " 'have',\n",
       " 'haven',\n",
       " 'he',\n",
       " 'head',\n",
       " 'header',\n",
       " 'headlin',\n",
       " 'health',\n",
       " 'hear',\n",
       " 'heard',\n",
       " 'heart',\n",
       " 'heaven',\n",
       " 'hei',\n",
       " 'height',\n",
       " 'held',\n",
       " 'hello',\n",
       " 'help',\n",
       " 'helvetica',\n",
       " 'her',\n",
       " 'herba',\n",
       " 'here',\n",
       " 'hermio',\n",
       " 'hettinga',\n",
       " 'hi',\n",
       " 'high',\n",
       " 'higher',\n",
       " 'highli',\n",
       " 'highlight',\n",
       " 'him',\n",
       " 'histori',\n",
       " 'hit',\n",
       " 'hold',\n",
       " 'home',\n",
       " 'honor',\n",
       " 'hope',\n",
       " 'host',\n",
       " 'hot',\n",
       " 'hour',\n",
       " 'hous',\n",
       " 'how',\n",
       " 'howev',\n",
       " 'hp',\n",
       " 'html',\n",
       " 'http',\n",
       " 'httpaddr',\n",
       " 'huge',\n",
       " 'human',\n",
       " 'hundr',\n",
       " 'ibm',\n",
       " 'id',\n",
       " 'idea',\n",
       " 'ident',\n",
       " 'identifi',\n",
       " 'idnumb',\n",
       " 'ie',\n",
       " 'if',\n",
       " 'ignor',\n",
       " 'ii',\n",
       " 'iii',\n",
       " 'iiiiiiihnumberjnumberhnumberjnumberhnumb',\n",
       " 'illeg',\n",
       " 'im',\n",
       " 'imag',\n",
       " 'imagin',\n",
       " 'immedi',\n",
       " 'impact',\n",
       " 'implement',\n",
       " 'import',\n",
       " 'impress',\n",
       " 'improv',\n",
       " 'in',\n",
       " 'inc',\n",
       " 'includ',\n",
       " 'incom',\n",
       " 'increas',\n",
       " 'incred',\n",
       " 'inde',\n",
       " 'independ',\n",
       " 'index',\n",
       " 'india',\n",
       " 'indian',\n",
       " 'indic',\n",
       " 'individu',\n",
       " 'industri',\n",
       " 'info',\n",
       " 'inform',\n",
       " 'initi',\n",
       " 'inlin',\n",
       " 'innov',\n",
       " 'input',\n",
       " 'insert',\n",
       " 'insid',\n",
       " 'instal',\n",
       " 'instanc',\n",
       " 'instant',\n",
       " 'instead',\n",
       " 'institut',\n",
       " 'instruct',\n",
       " 'insur',\n",
       " 'int',\n",
       " 'integr',\n",
       " 'intel',\n",
       " 'intellig',\n",
       " 'intend',\n",
       " 'interact',\n",
       " 'interest',\n",
       " 'interfac',\n",
       " 'intern',\n",
       " 'internet',\n",
       " 'interview',\n",
       " 'into',\n",
       " 'intro',\n",
       " 'introduc',\n",
       " 'inumb',\n",
       " 'invest',\n",
       " 'investig',\n",
       " 'investor',\n",
       " 'invok',\n",
       " 'involv',\n",
       " 'ip',\n",
       " 'ireland',\n",
       " 'irish',\n",
       " 'is',\n",
       " 'island',\n",
       " 'isn',\n",
       " 'iso',\n",
       " 'isp',\n",
       " 'issu',\n",
       " 'it',\n",
       " 'item',\n",
       " 'itself',\n",
       " 'jabber',\n",
       " 'jame',\n",
       " 'java',\n",
       " 'jim',\n",
       " 'jnumberiiiiiiihepihepihf',\n",
       " 'job',\n",
       " 'joe',\n",
       " 'john',\n",
       " 'join',\n",
       " 'journal',\n",
       " 'judg',\n",
       " 'judgment',\n",
       " 'jul',\n",
       " 'juli',\n",
       " 'jump',\n",
       " 'june',\n",
       " 'just',\n",
       " 'justin',\n",
       " 'keep',\n",
       " 'kei',\n",
       " 'kept',\n",
       " 'kernel',\n",
       " 'kevin',\n",
       " 'keyboard',\n",
       " 'kid',\n",
       " 'kill',\n",
       " 'kind',\n",
       " 'king',\n",
       " 'kingdom',\n",
       " 'knew',\n",
       " 'know',\n",
       " 'knowledg',\n",
       " 'known',\n",
       " 'la',\n",
       " 'lack',\n",
       " 'land',\n",
       " 'languag',\n",
       " 'laptop',\n",
       " 'larg',\n",
       " 'larger',\n",
       " 'largest',\n",
       " 'laser',\n",
       " 'last',\n",
       " 'late',\n",
       " 'later',\n",
       " 'latest',\n",
       " 'launch',\n",
       " 'law',\n",
       " 'lawrenc',\n",
       " 'le',\n",
       " 'lead',\n",
       " 'leader',\n",
       " 'learn',\n",
       " 'least',\n",
       " 'leav',\n",
       " 'left',\n",
       " 'legal',\n",
       " 'lender',\n",
       " 'length',\n",
       " 'less',\n",
       " 'lesson',\n",
       " 'let',\n",
       " 'letter',\n",
       " 'level',\n",
       " 'lib',\n",
       " 'librari',\n",
       " 'licens',\n",
       " 'life',\n",
       " 'lifetim',\n",
       " 'light',\n",
       " 'like',\n",
       " 'limit',\n",
       " 'line',\n",
       " 'link',\n",
       " 'linux',\n",
       " 'list',\n",
       " 'listen',\n",
       " 'littl',\n",
       " 'live',\n",
       " 'll',\n",
       " 'lo',\n",
       " 'load',\n",
       " 'loan',\n",
       " 'local',\n",
       " 'locat',\n",
       " 'lock',\n",
       " 'lockergnom',\n",
       " 'log',\n",
       " 'long',\n",
       " 'longer',\n",
       " 'look',\n",
       " 'lose',\n",
       " 'loss',\n",
       " 'lost',\n",
       " 'lot',\n",
       " 'love',\n",
       " 'low',\n",
       " 'lower',\n",
       " 'lowest',\n",
       " 'lt',\n",
       " 'ma',\n",
       " 'mac',\n",
       " 'machin',\n",
       " 'made',\n",
       " 'magazin',\n",
       " 'mai',\n",
       " 'mail',\n",
       " 'mailer',\n",
       " 'main',\n",
       " 'maintain',\n",
       " 'major',\n",
       " 'make',\n",
       " 'maker',\n",
       " 'male',\n",
       " 'man',\n",
       " ...]"
      ]
     },
     "execution_count": 377,
     "metadata": {},
     "output_type": "execute_result"
    }
   ],
   "source": [
    "vocabList = np.genfromtxt('vocab.txt' , dtype=str)\n",
    "vocabList = list(vocabList[:,1].astype('str'))\n",
    "vocabList"
   ]
  },
  {
   "cell_type": "code",
   "execution_count": 378,
   "metadata": {},
   "outputs": [],
   "source": [
    "class PorterStemmer:\n",
    "    \"\"\"\n",
    "    Porter Stemming Algorithm\n",
    "    This is the Porter stemming algorithm, ported to Python from the\n",
    "    version coded up in ANSI C by the author. It may be be regarded\n",
    "    as canonical, in that it follows the algorithm presented in\n",
    "    Porter, 1980, An algorithm for suffix stripping, Program, Vol. 14,\n",
    "    no. 3, pp 130-137,\n",
    "    only differing from it at the points maked --DEPARTURE-- below.\n",
    "    See also http://www.tartarus.org/~martin/PorterStemmer\n",
    "    The algorithm as described in the paper could be exactly replicated\n",
    "    by adjusting the points of DEPARTURE, but this is barely necessary,\n",
    "    because (a) the points of DEPARTURE are definitely improvements, and\n",
    "    (b) no encoding of the Porter stemmer I have seen is anything like\n",
    "    as exact as this version, even with the points of DEPARTURE!\n",
    "    Vivake Gupta (v@nano.com)\n",
    "    Release 1: January 2001\n",
    "    Further adjustments by Santiago Bruno (bananabruno@gmail.com)\n",
    "    to allow word input not restricted to one word per line, leading\n",
    "    to:\n",
    "    release 2: July 2008\n",
    "    \"\"\"\n",
    "    def __init__(self):\n",
    "        \"\"\"\n",
    "        The main part of the stemming algorithm starts here.\n",
    "        b is a buffer holding a word to be stemmed. The letters are in b[k0],\n",
    "        b[k0+1] ... ending at b[k]. In fact k0 = 0 in this demo program. k is\n",
    "        readjusted downwards as the stemming progresses. Zero termination is\n",
    "        not in fact used in the algorithm.\n",
    "        Note that only lower case sequences are stemmed. Forcing to lower case\n",
    "        should be done before stem(...) is called.\n",
    "        \"\"\"\n",
    "        self.b = \"\"  # buffer for word to be stemmed\n",
    "        self.k = 0\n",
    "        self.k0 = 0\n",
    "        self.j = 0   # j is a general offset into the string\n",
    "\n",
    "    def cons(self, i):\n",
    "        \"\"\"cons(i) is TRUE <=> b[i] is a consonant.\"\"\"\n",
    "        if self.b[i] in 'aeiou':\n",
    "            return 0\n",
    "        if self.b[i] == 'y':\n",
    "            if i == self.k0:\n",
    "                return 1\n",
    "            else:\n",
    "                return not self.cons(i - 1)\n",
    "        return 1\n",
    "\n",
    "    def m(self):\n",
    "        \"\"\"\n",
    "        m() measures the number of consonant sequences between k0 and j.\n",
    "        if c is a consonant sequence and v a vowel sequence, and <..>\n",
    "        indicates arbitrary presence,\n",
    "           <c><v>       gives 0\n",
    "           <c>vc<v>     gives 1\n",
    "           <c>vcvc<v>   gives 2\n",
    "           <c>vcvcvc<v> gives 3\n",
    "           ....\n",
    "        \"\"\"\n",
    "        n = 0\n",
    "        i = self.k0\n",
    "        while 1:\n",
    "            if i > self.j:\n",
    "                return n\n",
    "            if not self.cons(i):\n",
    "                break\n",
    "            i = i + 1\n",
    "        i = i + 1\n",
    "        while 1:\n",
    "            while 1:\n",
    "                if i > self.j:\n",
    "                    return n\n",
    "                if self.cons(i):\n",
    "                    break\n",
    "                i = i + 1\n",
    "            i = i + 1\n",
    "            n = n + 1\n",
    "            while 1:\n",
    "                if i > self.j:\n",
    "                    return n\n",
    "                if not self.cons(i):\n",
    "                    break\n",
    "                i = i + 1\n",
    "            i = i + 1\n",
    "\n",
    "    def vowelinstem(self):\n",
    "        \"\"\"vowelinstem() is TRUE <=> k0,...j contains a vowel\"\"\"\n",
    "        for i in range(self.k0, self.j + 1):\n",
    "            if not self.cons(i):\n",
    "                return 1\n",
    "        return 0\n",
    "\n",
    "    def doublec(self, j):\n",
    "        \"\"\" doublec(j) is TRUE <=> j,(j-1) contain a double consonant. \"\"\"\n",
    "        if j < (self.k0 + 1):\n",
    "            return 0\n",
    "        if self.b[j] != self.b[j-1]:\n",
    "            return 0\n",
    "        return self.cons(j)\n",
    "\n",
    "    def cvc(self, i):\n",
    "        \"\"\"\n",
    "        cvc(i) is TRUE <=> i-2,i-1,i has the form consonant - vowel - consonant\n",
    "        and also if the second c is not w,x or y. this is used when trying to\n",
    "        restore an e at the end of a short  e.g.\n",
    "           cav(e), lov(e), hop(e), crim(e), but\n",
    "           snow, box, tray.\n",
    "        \"\"\"\n",
    "        if i < (self.k0 + 2) or not self.cons(i) or self.cons(i-1) or not self.cons(i-2):\n",
    "            return 0\n",
    "        ch = self.b[i]\n",
    "        if ch in 'wxy':\n",
    "            return 0\n",
    "        return 1\n",
    "\n",
    "    def ends(self, s):\n",
    "        \"\"\"ends(s) is TRUE <=> k0,...k ends with the string s.\"\"\"\n",
    "        length = len(s)\n",
    "        if s[length - 1] != self.b[self.k]: # tiny speed-up\n",
    "            return 0\n",
    "        if length > (self.k - self.k0 + 1):\n",
    "            return 0\n",
    "        if self.b[self.k-length+1:self.k+1] != s:\n",
    "            return 0\n",
    "        self.j = self.k - length\n",
    "        return 1\n",
    "\n",
    "    def setto(self, s):\n",
    "        \"\"\"setto(s) sets (j+1),...k to the characters in the string s, readjusting k.\"\"\"\n",
    "        length = len(s)\n",
    "        self.b = self.b[:self.j+1] + s + self.b[self.j+length+1:]\n",
    "        self.k = self.j + length\n",
    "\n",
    "    def r(self, s):\n",
    "        \"\"\"r(s) is used further down.\"\"\"\n",
    "        if self.m() > 0:\n",
    "            self.setto(s)\n",
    "\n",
    "    def step1ab(self):\n",
    "        \"\"\"step1ab() gets rid of plurals and -ed or -ing. e.g.\n",
    "           caresses  ->  caress\n",
    "           ponies    ->  poni\n",
    "           ties      ->  ti\n",
    "           caress    ->  caress\n",
    "           cats      ->  cat\n",
    "           feed      ->  feed\n",
    "           agreed    ->  agree\n",
    "           disabled  ->  disable\n",
    "           matting   ->  mat\n",
    "           mating    ->  mate\n",
    "           meeting   ->  meet\n",
    "           milling   ->  mill\n",
    "           messing   ->  mess\n",
    "           meetings  ->  meet\n",
    "        \"\"\"\n",
    "        if self.b[self.k] == 's':\n",
    "            if self.ends(\"sses\"):\n",
    "                self.k = self.k - 2\n",
    "            elif self.ends(\"ies\"):\n",
    "                self.setto(\"i\")\n",
    "            elif self.b[self.k - 1] != 's':\n",
    "                self.k = self.k - 1\n",
    "        if self.ends(\"eed\"):\n",
    "            if self.m() > 0:\n",
    "                self.k = self.k - 1\n",
    "        elif (self.ends(\"ed\") or self.ends(\"ing\")) and self.vowelinstem():\n",
    "            self.k = self.j\n",
    "            if self.ends(\"at\"):\n",
    "                self.setto(\"ate\")\n",
    "            elif self.ends(\"bl\"):\n",
    "                self.setto(\"ble\")\n",
    "            elif self.ends(\"iz\"):\n",
    "                self.setto(\"ize\")\n",
    "            elif self.doublec(self.k):\n",
    "                self.k = self.k - 1\n",
    "                ch = self.b[self.k]\n",
    "                if ch in 'lsz':\n",
    "                    self.k += 1\n",
    "            elif self.m() == 1 and self.cvc(self.k):\n",
    "                self.setto(\"e\")\n",
    "\n",
    "    def step1c(self):\n",
    "        \"\"\"step1c() turns terminal y to i when there is another vowel in the stem.\"\"\"\n",
    "        if self.ends(\"y\") and self.vowelinstem():\n",
    "            self.b = self.b[:self.k] + 'i' + self.b[self.k+1:]\n",
    "\n",
    "    def step2(self):\n",
    "        \"\"\"step2() maps double suffices to single ones.\n",
    "        so -ization ( = -ize plus -ation) maps to -ize etc. note that the\n",
    "        string before the suffix must give m() > 0.\n",
    "        \"\"\"\n",
    "        if self.b[self.k - 1] == 'a':\n",
    "            if self.ends(\"ational\"):   self.r(\"ate\")\n",
    "            elif self.ends(\"tional\"):  self.r(\"tion\")\n",
    "        elif self.b[self.k - 1] == 'c':\n",
    "            if self.ends(\"enci\"):      self.r(\"ence\")\n",
    "            elif self.ends(\"anci\"):    self.r(\"ance\")\n",
    "        elif self.b[self.k - 1] == 'e':\n",
    "            if self.ends(\"izer\"):      self.r(\"ize\")\n",
    "        elif self.b[self.k - 1] == 'l':\n",
    "            if self.ends(\"bli\"):       self.r(\"ble\") # --DEPARTURE--\n",
    "            # To match the published algorithm, replace this phrase with\n",
    "            #   if self.ends(\"abli\"):      self.r(\"able\")\n",
    "            elif self.ends(\"alli\"):    self.r(\"al\")\n",
    "            elif self.ends(\"entli\"):   self.r(\"ent\")\n",
    "            elif self.ends(\"eli\"):     self.r(\"e\")\n",
    "            elif self.ends(\"ousli\"):   self.r(\"ous\")\n",
    "        elif self.b[self.k - 1] == 'o':\n",
    "            if self.ends(\"ization\"):   self.r(\"ize\")\n",
    "            elif self.ends(\"ation\"):   self.r(\"ate\")\n",
    "            elif self.ends(\"ator\"):    self.r(\"ate\")\n",
    "        elif self.b[self.k - 1] == 's':\n",
    "            if self.ends(\"alism\"):     self.r(\"al\")\n",
    "            elif self.ends(\"iveness\"): self.r(\"ive\")\n",
    "            elif self.ends(\"fulness\"): self.r(\"ful\")\n",
    "            elif self.ends(\"ousness\"): self.r(\"ous\")\n",
    "        elif self.b[self.k - 1] == 't':\n",
    "            if self.ends(\"aliti\"):     self.r(\"al\")\n",
    "            elif self.ends(\"iviti\"):   self.r(\"ive\")\n",
    "            elif self.ends(\"biliti\"):  self.r(\"ble\")\n",
    "        elif self.b[self.k - 1] == 'g': # --DEPARTURE--\n",
    "            if self.ends(\"logi\"):      self.r(\"log\")\n",
    "        # To match the published algorithm, delete this phrase\n",
    "\n",
    "    def step3(self):\n",
    "        \"\"\"step3() dels with -ic-, -full, -ness etc. similar strategy to step2.\"\"\"\n",
    "        if self.b[self.k] == 'e':\n",
    "            if self.ends(\"icate\"):     self.r(\"ic\")\n",
    "            elif self.ends(\"ative\"):   self.r(\"\")\n",
    "            elif self.ends(\"alize\"):   self.r(\"al\")\n",
    "        elif self.b[self.k] == 'i':\n",
    "            if self.ends(\"iciti\"):     self.r(\"ic\")\n",
    "        elif self.b[self.k] == 'l':\n",
    "            if self.ends(\"ical\"):      self.r(\"ic\")\n",
    "            elif self.ends(\"ful\"):     self.r(\"\")\n",
    "        elif self.b[self.k] == 's':\n",
    "            if self.ends(\"ness\"):      self.r(\"\")\n",
    "\n",
    "    def step4(self):\n",
    "        \"\"\"step4() takes off -ant, -ence etc., in context <c>vcvc<v>.\"\"\"\n",
    "        if self.b[self.k - 1] == 'a':\n",
    "            if self.ends(\"al\"): pass\n",
    "            else: return\n",
    "        elif self.b[self.k - 1] == 'c':\n",
    "            if self.ends(\"ance\"): pass\n",
    "            elif self.ends(\"ence\"): pass\n",
    "            else: return\n",
    "        elif self.b[self.k - 1] == 'e':\n",
    "            if self.ends(\"er\"): pass\n",
    "            else: return\n",
    "        elif self.b[self.k - 1] == 'i':\n",
    "            if self.ends(\"ic\"): pass\n",
    "            else: return\n",
    "        elif self.b[self.k - 1] == 'l':\n",
    "            if self.ends(\"able\"): pass\n",
    "            elif self.ends(\"ible\"): pass\n",
    "            else: return\n",
    "        elif self.b[self.k - 1] == 'n':\n",
    "            if self.ends(\"ant\"): pass\n",
    "            elif self.ends(\"ement\"): pass\n",
    "            elif self.ends(\"ment\"): pass\n",
    "            elif self.ends(\"ent\"): pass\n",
    "            else: return\n",
    "        elif self.b[self.k - 1] == 'o':\n",
    "            if self.ends(\"ion\") and (self.b[self.j] == 's' or self.b[self.j] == 't'): pass\n",
    "            elif self.ends(\"ou\"): pass\n",
    "            # takes care of -ous\n",
    "            else: return\n",
    "        elif self.b[self.k - 1] == 's':\n",
    "            if self.ends(\"ism\"): pass\n",
    "            else: return\n",
    "        elif self.b[self.k - 1] == 't':\n",
    "            if self.ends(\"ate\"): pass\n",
    "            elif self.ends(\"iti\"): pass\n",
    "            else: return\n",
    "        elif self.b[self.k - 1] == 'u':\n",
    "            if self.ends(\"ous\"): pass\n",
    "            else: return\n",
    "        elif self.b[self.k - 1] == 'v':\n",
    "            if self.ends(\"ive\"): pass\n",
    "            else: return\n",
    "        elif self.b[self.k - 1] == 'z':\n",
    "            if self.ends(\"ize\"): pass\n",
    "            else: return\n",
    "        else:\n",
    "            return\n",
    "        if self.m() > 1:\n",
    "            self.k = self.j\n",
    "\n",
    "    def step5(self):\n",
    "        \"\"\"step5() removes a final -e if m() > 1, and changes -ll to -l if\n",
    "        m() > 1.\n",
    "        \"\"\"\n",
    "        self.j = self.k\n",
    "        if self.b[self.k] == 'e':\n",
    "            a = self.m()\n",
    "            if a > 1 or (a == 1 and not self.cvc(self.k-1)):\n",
    "                self.k = self.k - 1\n",
    "        if self.b[self.k] == 'l' and self.doublec(self.k) and self.m() > 1:\n",
    "            self.k = self.k -1\n",
    "\n",
    "    def stem(self, p, i=0, j=None):\n",
    "        \"\"\"In stem(p,i,j), p is a char pointer, and the string to be stemmed\n",
    "        is from p[i] to p[j] inclusive. Typically i is zero and j is the\n",
    "        offset to the last character of a string, (p[j+1] == '\\0'). The\n",
    "        stemmer adjusts the characters p[i] ... p[j] and returns the new\n",
    "        end-point of the string, k. Stemming never increases word length, so\n",
    "        i <= k <= j. To turn the stemmer into a module, declare 'stem' as\n",
    "        extern, and delete the remainder of this file.\n",
    "        \"\"\"\n",
    "        # copy the parameters into statics\n",
    "        self.b = p\n",
    "        self.k = j or len(p) - 1\n",
    "        self.k0 = i\n",
    "        if self.k <= self.k0 + 1:\n",
    "            return self.b  # --DEPARTURE--\n",
    "\n",
    "        # With this line, strings of length 1 or 2 don't go through the\n",
    "        # stemming process, although no mention is made of this in the\n",
    "        # published algorithm. Remove the line to match the published\n",
    "        # algorithm.\n",
    "\n",
    "        self.step1ab()\n",
    "        self.step1c()\n",
    "        self.step2()\n",
    "        self.step3()\n",
    "        self.step4()\n",
    "        self.step5()\n",
    "        return self.b[self.k0:self.k+1]"
   ]
  },
  {
   "cell_type": "code",
   "execution_count": 379,
   "metadata": {},
   "outputs": [],
   "source": [
    "def processEmail(email_contents , verbose = True):\n",
    "    word_indices = []\n",
    "    \n",
    "    # Find the Headers ( \\n\\n and remove )\n",
    "    hdrstart = email_contents.find(chr(10) + chr(10))\n",
    "    email_contents = email_contents[hdrstart:]\n",
    "    \n",
    "    #Lower_case\n",
    "    email_contents = email_contents.lower()\n",
    "    \n",
    "    #remove HTML tags\n",
    "    # Looks for any expression that starts with < and ends with >nd does not have any < or > in the tag it with a space,then replace\n",
    "    email_contents = re.compile(r'<[^<>]+>').sub(' ', email_contents)\n",
    "    \n",
    "    # Handle Numbers\n",
    "    # Look for one or more characters between 0-9\n",
    "    email_contents = re.compile(r'[0-9]+').sub(' number ', email_contents)\n",
    "    \n",
    "    # Handle URLS\n",
    "    # Look for strings starting with http:// or https://\n",
    "    email_contents = re.compile(r'(http|https)://[^\\s]*').sub(' httpaddr ', email_contents)\n",
    "    \n",
    "    # Handle Email Addresses\n",
    "    # Look for strings with @ in the middle\n",
    "    email_contents = re.compile('[^\\s]+@[^\\s]+').sub(' emailaddr ', email_contents)\n",
    "    \n",
    "    # Handle $ sign\n",
    "    email_contents = re.compile('[$]+').sub(' dollar ', email_contents)\n",
    "    \n",
    "    # get rid of any punctuation\n",
    "    email_contents = re.split('[ @$/#.-:&*+=\\[\\]?!(){},''\">_<;%\\n\\r]', email_contents)\n",
    "    \n",
    "     # remove any empty word string\n",
    "    email_contents = [word for word in email_contents if len(word) > 0]\n",
    "    \n",
    "     # Stem the email contents word by word\n",
    "    stemmer = PorterStemmer()\n",
    "    processed_email = []\n",
    "    for word in email_contents:\n",
    "        # Remove any remaining non alphanumeric characters in word\n",
    "        word = re.compile('[^a-zA-Z0-9]').sub('', word).strip()\n",
    "        word = stemmer.stem(word)\n",
    "        processed_email.append(word)\n",
    "\n",
    "        if len(word) < 1:\n",
    "            continue\n",
    "\n",
    "        # Look up the word in the dictionary and add to word_indices if found\n",
    "        try:\n",
    "            word_indices.append(vocabList.index(word))\n",
    "        except ValueError:\n",
    "            pass\n",
    "        \n",
    "    if verbose:\n",
    "        print('----------------')\n",
    "        print('Processed email:')\n",
    "        print('----------------')\n",
    "        print(' '.join(processed_email))\n",
    "    return word_indices"
   ]
  },
  {
   "cell_type": "code",
   "execution_count": 391,
   "metadata": {},
   "outputs": [],
   "source": [
    "#Extracting features from email\n",
    "def extract_feature(word_indicies):\n",
    "    feature = np.zeros(len(vocabList))\n",
    "    for indices in word_indicies:\n",
    "            feature[indices] = 1\n",
    "    return feature        "
   ]
  },
  {
   "cell_type": "code",
   "execution_count": 392,
   "metadata": {},
   "outputs": [],
   "source": [
    "with open('emailSample1.txt', 'r') as file:\n",
    "    file_contents = file.read() "
   ]
  },
  {
   "cell_type": "code",
   "execution_count": 393,
   "metadata": {},
   "outputs": [
    {
     "name": "stdout",
     "output_type": "stream",
     "text": [
      "----------------\n",
      "Processed email:\n",
      "----------------\n",
      "to unsubscrib yourself from thi mail list send an email to emailaddr\n"
     ]
    },
    {
     "data": {
      "text/plain": [
       "[1698, 1757, 1895, 687, 1675, 991, 960, 1476, 70, 529, 1698, 530]"
      ]
     },
     "execution_count": 393,
     "metadata": {},
     "output_type": "execute_result"
    }
   ],
   "source": [
    "word_contents = processEmail(file_contents)\n",
    "word_contents"
   ]
  },
  {
   "cell_type": "code",
   "execution_count": 435,
   "metadata": {},
   "outputs": [
    {
     "data": {
      "text/plain": [
       "array([0., 0., 0., ..., 0., 0., 0.])"
      ]
     },
     "execution_count": 435,
     "metadata": {},
     "output_type": "execute_result"
    }
   ],
   "source": [
    "extracted_feature = extract_feature(word_contents)\n",
    "extracted_feature"
   ]
  },
  {
   "cell_type": "code",
   "execution_count": 436,
   "metadata": {},
   "outputs": [],
   "source": [
    "spamData = loadmat('spamTrain.mat')\n",
    "spamData_X, spamData_y = spamData['X'] , spamData['y']\n"
   ]
  },
  {
   "cell_type": "code",
   "execution_count": 437,
   "metadata": {},
   "outputs": [
    {
     "name": "stderr",
     "output_type": "stream",
     "text": [
      "/home/abhishek/anaconda3/lib/python3.6/site-packages/sklearn/utils/validation.py:724: DataConversionWarning: A column-vector y was passed when a 1d array was expected. Please change the shape of y to (n_samples, ), for example using ravel().\n",
      "  y = column_or_1d(y, warn=True)\n"
     ]
    },
    {
     "data": {
      "text/plain": [
       "SVC(C=0.1, cache_size=200, class_weight=None, coef0=0.0,\n",
       "    decision_function_shape='ovr', degree=3, gamma='auto_deprecated',\n",
       "    kernel='linear', max_iter=-1, probability=False, random_state=None,\n",
       "    shrinking=True, tol=0.001, verbose=False)"
      ]
     },
     "execution_count": 437,
     "metadata": {},
     "output_type": "execute_result"
    }
   ],
   "source": [
    "spam_clf =  svm.SVC(C=0.1, kernel='linear')\n",
    "spam_clf.fit(spamData_X,spamData_y)"
   ]
  },
  {
   "cell_type": "code",
   "execution_count": 438,
   "metadata": {},
   "outputs": [],
   "source": [
    "train_predicted = spam_clf.predict(spamData_X)"
   ]
  },
  {
   "cell_type": "code",
   "execution_count": 439,
   "metadata": {},
   "outputs": [
    {
     "data": {
      "text/plain": [
       "4000"
      ]
     },
     "execution_count": 439,
     "metadata": {},
     "output_type": "execute_result"
    }
   ],
   "source": [
    "train_predicted.size\n",
    "#spamData_y.size"
   ]
  },
  {
   "cell_type": "code",
   "execution_count": 440,
   "metadata": {},
   "outputs": [],
   "source": [
    "def accuracy(predicted, y):\n",
    "    return (predicted==y).mean()\n",
    "    "
   ]
  },
  {
   "cell_type": "code",
   "execution_count": 441,
   "metadata": {},
   "outputs": [
    {
     "data": {
      "text/plain": [
       "0.99825"
      ]
     },
     "execution_count": 441,
     "metadata": {},
     "output_type": "execute_result"
    }
   ],
   "source": [
    "accuracy(train_predicted, spamData_y.ravel())"
   ]
  },
  {
   "cell_type": "code",
   "execution_count": 443,
   "metadata": {},
   "outputs": [],
   "source": [
    "spamTest = loadmat('spamTest.mat')\n",
    "spamTest_X ,spamTest_y = spamTest['Xtest'], spamTest['ytest']\n",
    "test_predicted = spam_clf.predict(spamTest_X)"
   ]
  },
  {
   "cell_type": "code",
   "execution_count": 445,
   "metadata": {},
   "outputs": [
    {
     "data": {
      "text/plain": [
       "0.989"
      ]
     },
     "execution_count": 445,
     "metadata": {},
     "output_type": "execute_result"
    }
   ],
   "source": [
    "accuracy(test_predicted, spamTest_y.ravel())"
   ]
  },
  {
   "cell_type": "code",
   "execution_count": 479,
   "metadata": {},
   "outputs": [
    {
     "data": {
      "text/plain": [
       "['hour',\n",
       " 'ga',\n",
       " 'lo',\n",
       " 'nbsp',\n",
       " 'most',\n",
       " 'pleas',\n",
       " 'price',\n",
       " 'will',\n",
       " 'dollar',\n",
       " 'basenumb',\n",
       " 'visit',\n",
       " 'guarante',\n",
       " 'remov',\n",
       " 'click',\n",
       " 'our']"
      ]
     },
     "execution_count": 479,
     "metadata": {},
     "output_type": "execute_result"
    }
   ],
   "source": [
    "#Top Predictions of Spam\n",
    "top_words_weights = list(np.sort(spam_clf.coef_)[0,-15:])\n",
    "top_words_indices = []\n",
    "for weight in top_words_weights:\n",
    "    top_words_indices.append(list(spam_clf.coef_[0,:]).index(weight))\n",
    "\n",
    "most_predicted_words = [vocabList[i] for i in top_words_indices]\n",
    "most_predicted_words"
   ]
  },
  {
   "cell_type": "code",
   "execution_count": null,
   "metadata": {},
   "outputs": [],
   "source": []
  }
 ],
 "metadata": {
  "kernelspec": {
   "display_name": "Python 3",
   "language": "python",
   "name": "python3"
  },
  "language_info": {
   "codemirror_mode": {
    "name": "ipython",
    "version": 3
   },
   "file_extension": ".py",
   "mimetype": "text/x-python",
   "name": "python",
   "nbconvert_exporter": "python",
   "pygments_lexer": "ipython3",
   "version": "3.6.9"
  }
 },
 "nbformat": 4,
 "nbformat_minor": 2
}
