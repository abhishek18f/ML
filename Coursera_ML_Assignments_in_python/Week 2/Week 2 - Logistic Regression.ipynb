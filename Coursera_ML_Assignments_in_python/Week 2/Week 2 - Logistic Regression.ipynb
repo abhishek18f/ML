{
 "cells": [
  {
   "cell_type": "code",
   "execution_count": 1,
   "metadata": {},
   "outputs": [],
   "source": [
    "import numpy as np\n",
    "import pandas as pd\n",
    "import matplotlib.pyplot as plt"
   ]
  },
  {
   "cell_type": "code",
   "execution_count": 2,
   "metadata": {},
   "outputs": [
    {
     "data": {
      "text/html": [
       "<div>\n",
       "<style scoped>\n",
       "    .dataframe tbody tr th:only-of-type {\n",
       "        vertical-align: middle;\n",
       "    }\n",
       "\n",
       "    .dataframe tbody tr th {\n",
       "        vertical-align: top;\n",
       "    }\n",
       "\n",
       "    .dataframe thead th {\n",
       "        text-align: right;\n",
       "    }\n",
       "</style>\n",
       "<table border=\"1\" class=\"dataframe\">\n",
       "  <thead>\n",
       "    <tr style=\"text-align: right;\">\n",
       "      <th></th>\n",
       "      <th>marks1</th>\n",
       "      <th>marks2</th>\n",
       "      <th>probability</th>\n",
       "    </tr>\n",
       "  </thead>\n",
       "  <tbody>\n",
       "    <tr>\n",
       "      <th>0</th>\n",
       "      <td>34.623660</td>\n",
       "      <td>78.024693</td>\n",
       "      <td>0.0</td>\n",
       "    </tr>\n",
       "    <tr>\n",
       "      <th>1</th>\n",
       "      <td>30.286711</td>\n",
       "      <td>43.894998</td>\n",
       "      <td>0.0</td>\n",
       "    </tr>\n",
       "    <tr>\n",
       "      <th>2</th>\n",
       "      <td>35.847409</td>\n",
       "      <td>72.902198</td>\n",
       "      <td>0.0</td>\n",
       "    </tr>\n",
       "    <tr>\n",
       "      <th>3</th>\n",
       "      <td>60.182599</td>\n",
       "      <td>86.308552</td>\n",
       "      <td>1.0</td>\n",
       "    </tr>\n",
       "    <tr>\n",
       "      <th>4</th>\n",
       "      <td>79.032736</td>\n",
       "      <td>75.344376</td>\n",
       "      <td>1.0</td>\n",
       "    </tr>\n",
       "  </tbody>\n",
       "</table>\n",
       "</div>"
      ],
      "text/plain": [
       "      marks1     marks2  probability\n",
       "0  34.623660  78.024693          0.0\n",
       "1  30.286711  43.894998          0.0\n",
       "2  35.847409  72.902198          0.0\n",
       "3  60.182599  86.308552          1.0\n",
       "4  79.032736  75.344376          1.0"
      ]
     },
     "execution_count": 2,
     "metadata": {},
     "output_type": "execute_result"
    }
   ],
   "source": [
    "data1 = np.loadtxt(\"ex2data1.txt\", delimiter = ',')\n",
    "df1 = pd.DataFrame(data1 , columns = ['marks1', 'marks2', 'probability'])\n",
    "m = df1.shape[0]\n",
    "df1.head()"
   ]
  },
  {
   "cell_type": "code",
   "execution_count": 3,
   "metadata": {},
   "outputs": [
    {
     "data": {
      "image/png": "[encoded data removed]",
      "text/plain": [
       "<Figure size 432x288 with 1 Axes>"
      ]
     },
     "metadata": {
      "needs_background": "light"
     },
     "output_type": "display_data"
    }
   ],
   "source": [
    "#plotting data for visualization using pd.plot\n",
    "ax = df1[df1['probability'] == 0].plot.scatter('marks1', 'marks2', color='blue')\n",
    "df1[df1['probability'] == 1].plot.scatter('marks1', 'marks2', color='red' , marker = 'x', ax = ax)\n",
    "plt.savefig(\"plotting\")"
   ]
  },
  {
   "cell_type": "code",
   "execution_count": 4,
   "metadata": {},
   "outputs": [
    {
     "data": {
      "image/png": "[encoded data removed]",
      "text/plain": [
       "<Figure size 432x288 with 1 Axes>"
      ]
     },
     "metadata": {
      "needs_background": "light"
     },
     "output_type": "display_data"
    }
   ],
   "source": [
    "#plotting data for visualization using matplotlib\n",
    "plt.scatter(df1[df1['probability'] == 0]['marks1'], df1[df1['probability'] == 0]['marks2'])\n",
    "plt.scatter(df1[df1['probability'] == 1]['marks1'], df1[df1['probability'] == 1]['marks2'],color='red' , marker = 'x')\n",
    "plt.savefig(\"plotting\")"
   ]
  },
  {
   "cell_type": "code",
   "execution_count": 5,
   "metadata": {},
   "outputs": [],
   "source": [
    "#since it can be fitter with linear data , we will use linear logistic regression\n",
    "def sigmoid(z):                #sigmoid function\n",
    "    return 1/(1+np.exp(-z))"
   ]
  },
  {
   "cell_type": "code",
   "execution_count": 6,
   "metadata": {},
   "outputs": [],
   "source": [
    "def h(theta, X):             #hypothesis function\n",
    "    return sigmoid(np.dot(X, theta))"
   ]
  },
  {
   "cell_type": "code",
   "execution_count": 7,
   "metadata": {},
   "outputs": [],
   "source": [
    "def J(h, y , m):                  #cost function\n",
    "    return float(-(np.dot(y.T, np.log(h)) + np.dot((1-y).T, np.log(1 - h)))/m)"
   ]
  },
  {
   "cell_type": "code",
   "execution_count": 8,
   "metadata": {},
   "outputs": [],
   "source": [
    "#Gradient descent\n",
    "theta1 = np.zeros((3,1))\n",
    "alpha = 0.001\n",
    "X1 = np.ones((m,3))\n",
    "X1[:,1:] = data1[:,0:2] \n",
    "y1 = data1[:,2].reshape(m,1)\n",
    "h1 = h(theta1, X1)\n",
    "#J(h1 , y1 , m)\n",
    "\n",
    "#grad = np.dot(X1.T , (h1 - y1))/m\n",
    "#grad\n",
    "\n",
    "for i in range(10000000):\n",
    "    theta1 -= alpha*np.dot(X1.T , (h1 - y1))/m\n",
    "    h1 = h(theta1 , X1)"
   ]
  },
  {
   "cell_type": "code",
   "execution_count": 11,
   "metadata": {},
   "outputs": [
    {
     "data": {
      "text/plain": [
       "array([[-24.73684959],\n",
       "       [  0.2028365 ],\n",
       "       [  0.19803678]])"
      ]
     },
     "execution_count": 11,
     "metadata": {},
     "output_type": "execute_result"
    }
   ],
   "source": [
    "theta1"
   ]
  },
  {
   "cell_type": "code",
   "execution_count": 14,
   "metadata": {},
   "outputs": [
    {
     "data": {
      "text/plain": [
       "0.20352489044827862"
      ]
     },
     "execution_count": 14,
     "metadata": {},
     "output_type": "execute_result"
    }
   ],
   "source": [
    "J(h1, y1 , m)"
   ]
  },
  {
   "cell_type": "code",
   "execution_count": 15,
   "metadata": {},
   "outputs": [],
   "source": [
    "#changing hypothesis to 0/1\n",
    "for i in range(m):\n",
    "       if(h1[i]>=0.5):\n",
    "            h1[i] = 1\n",
    "       else :\n",
    "            h1[i] = 0   "
   ]
  },
  {
   "cell_type": "code",
   "execution_count": 16,
   "metadata": {},
   "outputs": [
    {
     "data": {
      "text/plain": [
       "0.89"
      ]
     },
     "execution_count": 16,
     "metadata": {},
     "output_type": "execute_result"
    }
   ],
   "source": [
    "accuracy = h1[h1 == y1].shape[0]/m\n",
    "accuracy"
   ]
  },
  {
   "cell_type": "code",
   "execution_count": 17,
   "metadata": {},
   "outputs": [],
   "source": [
    "#for plotting Decision Boundary of logistic regression\n",
    "plot_x = np.array([min(X1[:,1]) - 2, max(X1[:,1]) + 2])\n",
    "plot_y = (-1/theta1[2]) * (theta1[1] * plot_x + theta1[0])"
   ]
  },
  {
   "cell_type": "code",
   "execution_count": 18,
   "metadata": {},
   "outputs": [
    {
     "data": {
      "image/png": "[encoded data removed]",
      "text/plain": [
       "<Figure size 432x288 with 1 Axes>"
      ]
     },
     "metadata": {
      "needs_background": "light"
     },
     "output_type": "display_data"
    }
   ],
   "source": [
    "plt.scatter(df1[df1['probability'] == 0]['marks1'], df1[df1['probability'] == 0]['marks2'], label = 'not selected')\n",
    "plt.scatter(df1[df1['probability'] == 1]['marks1'], df1[df1['probability'] == 1]['marks2'],color='red' , marker = 'x', label = 'selected')\n",
    "plt.plot(plot_x , plot_y , label = 'Decision Boundary')\n",
    "plt.legend()\n",
    "plt.savefig(\"plotting\")\n"
   ]
  },
  {
   "cell_type": "code",
   "execution_count": null,
   "metadata": {},
   "outputs": [],
   "source": []
  },
  {
   "cell_type": "code",
   "execution_count": null,
   "metadata": {},
   "outputs": [],
   "source": []
  },
  {
   "cell_type": "code",
   "execution_count": 62,
   "metadata": {},
   "outputs": [
    {
     "data": {
      "text/html": [
       "<div>\n",
       "<style scoped>\n",
       "    .dataframe tbody tr th:only-of-type {\n",
       "        vertical-align: middle;\n",
       "    }\n",
       "\n",
       "    .dataframe tbody tr th {\n",
       "        vertical-align: top;\n",
       "    }\n",
       "\n",
       "    .dataframe thead th {\n",
       "        text-align: right;\n",
       "    }\n",
       "</style>\n",
       "<table border=\"1\" class=\"dataframe\">\n",
       "  <thead>\n",
       "    <tr style=\"text-align: right;\">\n",
       "      <th></th>\n",
       "      <th>test1</th>\n",
       "      <th>test2</th>\n",
       "      <th>selected</th>\n",
       "    </tr>\n",
       "  </thead>\n",
       "  <tbody>\n",
       "    <tr>\n",
       "      <th>0</th>\n",
       "      <td>0.051267</td>\n",
       "      <td>0.69956</td>\n",
       "      <td>1.0</td>\n",
       "    </tr>\n",
       "    <tr>\n",
       "      <th>1</th>\n",
       "      <td>-0.092742</td>\n",
       "      <td>0.68494</td>\n",
       "      <td>1.0</td>\n",
       "    </tr>\n",
       "    <tr>\n",
       "      <th>2</th>\n",
       "      <td>-0.213710</td>\n",
       "      <td>0.69225</td>\n",
       "      <td>1.0</td>\n",
       "    </tr>\n",
       "    <tr>\n",
       "      <th>3</th>\n",
       "      <td>-0.375000</td>\n",
       "      <td>0.50219</td>\n",
       "      <td>1.0</td>\n",
       "    </tr>\n",
       "    <tr>\n",
       "      <th>4</th>\n",
       "      <td>-0.513250</td>\n",
       "      <td>0.46564</td>\n",
       "      <td>1.0</td>\n",
       "    </tr>\n",
       "  </tbody>\n",
       "</table>\n",
       "</div>"
      ],
      "text/plain": [
       "      test1    test2  selected\n",
       "0  0.051267  0.69956       1.0\n",
       "1 -0.092742  0.68494       1.0\n",
       "2 -0.213710  0.69225       1.0\n",
       "3 -0.375000  0.50219       1.0\n",
       "4 -0.513250  0.46564       1.0"
      ]
     },
     "execution_count": 62,
     "metadata": {},
     "output_type": "execute_result"
    }
   ],
   "source": [
    "#Regularixed Logistic Regression\n",
    "data2 = np.loadtxt(\"ex2data2.txt\", delimiter = ',')\n",
    "df2  = pd.DataFrame(data2, columns = ['test1', 'test2', 'selected'] )\n",
    "m2 = len(df2)\n",
    "df2.head()"
   ]
  },
  {
   "cell_type": "code",
   "execution_count": 20,
   "metadata": {},
   "outputs": [
    {
     "data": {
      "image/png": "[encoded data removed]",
      "text/plain": [
       "<Figure size 432x288 with 1 Axes>"
      ]
     },
     "metadata": {
      "needs_background": "light"
     },
     "output_type": "display_data"
    }
   ],
   "source": [
    "plt.scatter(df2[df2['selected'] == 0]['test1'], df2[df2['selected'] == 0]['test2'], label = 'not selected')\n",
    "plt.scatter(df2[df2['selected'] == 1]['test1'], df2[df2['selected'] == 1]['test2'], label = 'selected', marker= '+', color= 'red')\n",
    "plt.legend()\n",
    "plt.savefig(\"data_plot_polynomial\")"
   ]
  },
  {
   "cell_type": "markdown",
   "metadata": {},
   "source": [
    "Figure shows that our dataset cannot be separated into positive and\n",
    "negative examples by a straight-line through the plot. Therefore, a straight-\n",
    "forward application of logistic regression will not perform well on this dataset\n",
    "since logistic regression will only be able to find a linear decision boundary"
   ]
  },
  {
   "cell_type": "markdown",
   "metadata": {},
   "source": [
    "Feature mapping-\n",
    "One way to fit the data better is to create more features from each data\n",
    "point. In the provided function mapFeature.m, we will map the features into\n",
    "all polynomial terms of x 1 and x 2 up to the sixth power.\n",
    "\n",
    "While the feature mapping allows us to build a more expressive classifier,\n",
    "it also more susceptible to overfitting\n",
    "\n",
    "Therefore, we will use Regularized Cost Function."
   ]
  },
  {
   "cell_type": "code",
   "execution_count": 65,
   "metadata": {},
   "outputs": [
    {
     "data": {
      "text/plain": [
       "[0, 1, 2, 3, 4, 5, 6]"
      ]
     },
     "execution_count": 65,
     "metadata": {},
     "output_type": "execute_result"
    }
   ],
   "source": [
    "#Feature Mapping\n",
    "degree = 6\n",
    "X2 = np.ones((118,28))\n",
    "column = []\n",
    "for i in range(28):\n",
    "    column.append('x' + str(i))\n",
    "temp  = pd.DataFrame(X2, columns = column )\n",
    "\n",
    "\n",
    "def rng(i):\n",
    "    a = list(range(i))\n",
    "    a.append(i)\n",
    "    return a\n",
    "\n",
    "def rng1(i):\n",
    "    a = np.arange(i)\n",
    "    a += 1\n",
    "    return a\n",
    "\n",
    "rng(degree)"
   ]
  },
  {
   "cell_type": "code",
   "execution_count": 66,
   "metadata": {},
   "outputs": [],
   "source": [
    "p=1\n",
    "for i in rng1(degree):\n",
    "    for j in rng(i):\n",
    "        temp.iloc[:,p] = np.power(data2[:,0] , i-j)*np.power(data2[:,1], j)\n",
    "        p += 1"
   ]
  },
  {
   "cell_type": "code",
   "execution_count": 125,
   "metadata": {},
   "outputs": [],
   "source": [
    "X2 = temp.values\n",
    "#\n",
    "#temp"
   ]
  },
  {
   "cell_type": "code",
   "execution_count": 68,
   "metadata": {},
   "outputs": [],
   "source": [
    "def J_reg(h, y , m , theta):                  #cost function\n",
    "    return float(-(np.dot(y.T, np.log(h)) + np.dot((1-y).T, np.log(1 - h)))/m) + lambd*((theta*theta).sum() - (theta[0]*theta[0]))/(2*m)"
   ]
  },
  {
   "cell_type": "code",
   "execution_count": 126,
   "metadata": {
    "scrolled": true
   },
   "outputs": [],
   "source": [
    "theta2 = np.zeros((28,1))\n",
    "test_theta = np.ones((28,1))\n",
    "alpha = 0.0001\n",
    "lambd = 10\n",
    "y2 = data2[:,2].reshape(m2,1)\n",
    "h2 = h(test_theta, X2)\n",
    "grad = np.dot(X2.T , (h2 - y2))/m2 + lambd*test_theta/m2\n",
    "grad[0] = np.dot(X2.T , (h2 - y2))[0]/m2 \n",
    "#J_reg(h2 , y2 ,  m2,test_theta)\n",
    "#J_reg(h2 , y2 ,  m2, theta2)\n",
    "#grad"
   ]
  },
  {
   "cell_type": "code",
   "execution_count": 118,
   "metadata": {},
   "outputs": [],
   "source": [
    "#Gradient descent\n",
    "theta2 = np.zeros((28,1))\n",
    "alpha = 0.0001\n",
    "lambd = 1\n",
    "y2 = data2[:,2].reshape(m2,1)\n",
    "h2 = h(theta2, X2)\n",
    "#J(h1 , y1 , m)\n",
    "\n",
    "#grad = np.dot(X1.T , (h1 - y1))/m\n",
    "#grad\n",
    "\n",
    "for i in range(1000000):\n",
    "    theta2[1:] -= alpha*(np.dot(X2.T , (h2 - y2))[1:]/m2 + lambd*theta2[1:]/m2)\n",
    "    theta2[0] -= alpha*np.dot(X2.T , (h2 - y2))[0]/m2 \n",
    "    h2 = h(theta2 , X2)\n"
   ]
  },
  {
   "cell_type": "code",
   "execution_count": 119,
   "metadata": {},
   "outputs": [
    {
     "data": {
      "text/plain": [
       "array([0.53442849])"
      ]
     },
     "execution_count": 119,
     "metadata": {},
     "output_type": "execute_result"
    }
   ],
   "source": [
    "J_reg(h2, y2, m2 , theta2)"
   ]
  },
  {
   "cell_type": "code",
   "execution_count": 120,
   "metadata": {},
   "outputs": [],
   "source": [
    "#h2"
   ]
  },
  {
   "cell_type": "code",
   "execution_count": 121,
   "metadata": {},
   "outputs": [],
   "source": [
    "#changing hypothesis to 0/1\n",
    "for i in range(m2):\n",
    "       if(h2[i]>=0.5):\n",
    "            h2[i] = 1\n",
    "       else :\n",
    "            h2[i] = 0   "
   ]
  },
  {
   "cell_type": "code",
   "execution_count": 122,
   "metadata": {},
   "outputs": [
    {
     "data": {
      "text/plain": [
       "0.8305084745762712"
      ]
     },
     "execution_count": 122,
     "metadata": {},
     "output_type": "execute_result"
    }
   ],
   "source": [
    "accuracy2 = h2[h2 == y2].shape[0]/m2\n",
    "accuracy2"
   ]
  },
  {
   "cell_type": "code",
   "execution_count": 123,
   "metadata": {},
   "outputs": [],
   "source": [
    "def grad(theta, X , h , y , m):\n",
    "    return np.dot(X.T , (h - y))[1:]/m + lambd*theta[1:]/m"
   ]
  },
  {
   "cell_type": "code",
   "execution_count": null,
   "metadata": {},
   "outputs": [],
   "source": []
  }
 ],
 "metadata": {
  "kernelspec": {
   "display_name": "Python 3",
   "language": "python",
   "name": "python3"
  },
  "language_info": {
   "codemirror_mode": {
    "name": "ipython",
    "version": 3
   },
   "file_extension": ".py",
   "mimetype": "text/x-python",
   "name": "python",
   "nbconvert_exporter": "python",
   "pygments_lexer": "ipython3",
   "version": "3.6.9"
  }
 },
 "nbformat": 4,
 "nbformat_minor": 2
}
