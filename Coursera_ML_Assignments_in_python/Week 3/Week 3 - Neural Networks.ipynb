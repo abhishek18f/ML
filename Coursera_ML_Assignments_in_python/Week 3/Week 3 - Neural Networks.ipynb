{
 "cells": [
  {
   "cell_type": "code",
   "execution_count": 2,
   "metadata": {},
   "outputs": [],
   "source": [
    "import numpy as np\n",
    "import pandas as pd\n",
    "import matplotlib.pyplot as plt\n",
    "import utils\n",
    "from scipy.io import loadmat\n",
    "from PIL import Image\n",
    "from scipy import optimize\n",
    "from scipy.optimize import fmin_bfgs"
   ]
  },
  {
   "cell_type": "code",
   "execution_count": 124,
   "metadata": {},
   "outputs": [
    {
     "data": {
      "text/html": [
       "<div>\n",
       "<style scoped>\n",
       "    .dataframe tbody tr th:only-of-type {\n",
       "        vertical-align: middle;\n",
       "    }\n",
       "\n",
       "    .dataframe tbody tr th {\n",
       "        vertical-align: top;\n",
       "    }\n",
       "\n",
       "    .dataframe thead th {\n",
       "        text-align: right;\n",
       "    }\n",
       "</style>\n",
       "<table border=\"1\" class=\"dataframe\">\n",
       "  <thead>\n",
       "    <tr style=\"text-align: right;\">\n",
       "      <th></th>\n",
       "      <th>200</th>\n",
       "      <th>201</th>\n",
       "      <th>202</th>\n",
       "      <th>203</th>\n",
       "      <th>204</th>\n",
       "      <th>205</th>\n",
       "      <th>206</th>\n",
       "      <th>207</th>\n",
       "      <th>208</th>\n",
       "      <th>209</th>\n",
       "      <th>210</th>\n",
       "      <th>211</th>\n",
       "      <th>212</th>\n",
       "      <th>213</th>\n",
       "      <th>214</th>\n",
       "    </tr>\n",
       "  </thead>\n",
       "  <tbody>\n",
       "    <tr>\n",
       "      <td>4990</td>\n",
       "      <td>0.000000</td>\n",
       "      <td>0.0</td>\n",
       "      <td>-0.014407</td>\n",
       "      <td>0.083334</td>\n",
       "      <td>0.846539</td>\n",
       "      <td>0.981079</td>\n",
       "      <td>0.468345</td>\n",
       "      <td>0.445748</td>\n",
       "      <td>0.436091</td>\n",
       "      <td>6.825225e-01</td>\n",
       "      <td>1.010343</td>\n",
       "      <td>0.468243</td>\n",
       "      <td>-0.029694</td>\n",
       "      <td>0.000082</td>\n",
       "      <td>-0.005510</td>\n",
       "    </tr>\n",
       "    <tr>\n",
       "      <td>4991</td>\n",
       "      <td>-0.038619</td>\n",
       "      <td>0.0</td>\n",
       "      <td>0.000000</td>\n",
       "      <td>0.000000</td>\n",
       "      <td>-0.026019</td>\n",
       "      <td>0.410966</td>\n",
       "      <td>0.951095</td>\n",
       "      <td>0.263750</td>\n",
       "      <td>-0.039285</td>\n",
       "      <td>-2.965562e-02</td>\n",
       "      <td>0.059989</td>\n",
       "      <td>0.683275</td>\n",
       "      <td>1.033038</td>\n",
       "      <td>0.873496</td>\n",
       "      <td>0.855035</td>\n",
       "    </tr>\n",
       "    <tr>\n",
       "      <td>4992</td>\n",
       "      <td>-0.043764</td>\n",
       "      <td>0.0</td>\n",
       "      <td>0.000000</td>\n",
       "      <td>0.000000</td>\n",
       "      <td>-0.037889</td>\n",
       "      <td>0.639510</td>\n",
       "      <td>0.854440</td>\n",
       "      <td>0.107049</td>\n",
       "      <td>-0.026480</td>\n",
       "      <td>-2.547023e-02</td>\n",
       "      <td>0.199604</td>\n",
       "      <td>0.810096</td>\n",
       "      <td>1.025802</td>\n",
       "      <td>0.584138</td>\n",
       "      <td>0.682844</td>\n",
       "    </tr>\n",
       "    <tr>\n",
       "      <td>4993</td>\n",
       "      <td>-0.025520</td>\n",
       "      <td>0.0</td>\n",
       "      <td>0.000000</td>\n",
       "      <td>0.000000</td>\n",
       "      <td>-0.034292</td>\n",
       "      <td>0.556631</td>\n",
       "      <td>0.996501</td>\n",
       "      <td>0.399395</td>\n",
       "      <td>-0.028254</td>\n",
       "      <td>-1.811336e-02</td>\n",
       "      <td>0.116110</td>\n",
       "      <td>0.688744</td>\n",
       "      <td>1.027338</td>\n",
       "      <td>0.892911</td>\n",
       "      <td>0.746805</td>\n",
       "    </tr>\n",
       "    <tr>\n",
       "      <td>4994</td>\n",
       "      <td>0.001053</td>\n",
       "      <td>0.0</td>\n",
       "      <td>0.000000</td>\n",
       "      <td>0.000000</td>\n",
       "      <td>-0.025498</td>\n",
       "      <td>0.388868</td>\n",
       "      <td>1.045169</td>\n",
       "      <td>0.589549</td>\n",
       "      <td>-0.037717</td>\n",
       "      <td>-1.250049e-02</td>\n",
       "      <td>-0.019106</td>\n",
       "      <td>0.335779</td>\n",
       "      <td>0.975641</td>\n",
       "      <td>1.023033</td>\n",
       "      <td>0.936570</td>\n",
       "    </tr>\n",
       "    <tr>\n",
       "      <td>4995</td>\n",
       "      <td>0.000000</td>\n",
       "      <td>0.0</td>\n",
       "      <td>0.000000</td>\n",
       "      <td>0.000000</td>\n",
       "      <td>-0.036797</td>\n",
       "      <td>0.647633</td>\n",
       "      <td>0.453300</td>\n",
       "      <td>-0.025348</td>\n",
       "      <td>-0.021461</td>\n",
       "      <td>-4.270699e-02</td>\n",
       "      <td>0.402884</td>\n",
       "      <td>0.820498</td>\n",
       "      <td>0.106469</td>\n",
       "      <td>-0.019882</td>\n",
       "      <td>-0.012339</td>\n",
       "    </tr>\n",
       "    <tr>\n",
       "      <td>4996</td>\n",
       "      <td>-0.042064</td>\n",
       "      <td>0.0</td>\n",
       "      <td>0.000000</td>\n",
       "      <td>0.000000</td>\n",
       "      <td>-0.043854</td>\n",
       "      <td>0.725587</td>\n",
       "      <td>1.062155</td>\n",
       "      <td>0.391034</td>\n",
       "      <td>-0.050441</td>\n",
       "      <td>-9.090295e-03</td>\n",
       "      <td>0.044559</td>\n",
       "      <td>0.686090</td>\n",
       "      <td>1.002653</td>\n",
       "      <td>0.915504</td>\n",
       "      <td>0.270314</td>\n",
       "    </tr>\n",
       "    <tr>\n",
       "      <td>4997</td>\n",
       "      <td>0.000000</td>\n",
       "      <td>0.0</td>\n",
       "      <td>0.000000</td>\n",
       "      <td>0.000000</td>\n",
       "      <td>-0.004036</td>\n",
       "      <td>0.022999</td>\n",
       "      <td>0.574133</td>\n",
       "      <td>0.888907</td>\n",
       "      <td>0.881704</td>\n",
       "      <td>7.622939e-01</td>\n",
       "      <td>0.840374</td>\n",
       "      <td>0.966300</td>\n",
       "      <td>0.289337</td>\n",
       "      <td>-0.063227</td>\n",
       "      <td>-0.026421</td>\n",
       "    </tr>\n",
       "    <tr>\n",
       "      <td>4998</td>\n",
       "      <td>-0.000243</td>\n",
       "      <td>0.0</td>\n",
       "      <td>0.000000</td>\n",
       "      <td>0.000000</td>\n",
       "      <td>-0.002475</td>\n",
       "      <td>-0.007049</td>\n",
       "      <td>0.549986</td>\n",
       "      <td>1.046026</td>\n",
       "      <td>0.554603</td>\n",
       "      <td>-5.944904e-02</td>\n",
       "      <td>0.613744</td>\n",
       "      <td>1.018118</td>\n",
       "      <td>0.989580</td>\n",
       "      <td>0.991597</td>\n",
       "      <td>1.031827</td>\n",
       "    </tr>\n",
       "    <tr>\n",
       "      <td>4999</td>\n",
       "      <td>-0.044351</td>\n",
       "      <td>0.0</td>\n",
       "      <td>0.000000</td>\n",
       "      <td>0.000000</td>\n",
       "      <td>-0.031026</td>\n",
       "      <td>0.507026</td>\n",
       "      <td>0.907500</td>\n",
       "      <td>0.215307</td>\n",
       "      <td>-0.027198</td>\n",
       "      <td>5.755654e-19</td>\n",
       "      <td>0.000820</td>\n",
       "      <td>-0.029658</td>\n",
       "      <td>0.224610</td>\n",
       "      <td>0.963670</td>\n",
       "      <td>0.738628</td>\n",
       "    </tr>\n",
       "  </tbody>\n",
       "</table>\n",
       "</div>"
      ],
      "text/plain": [
       "           200  201       202       203       204       205       206  \\\n",
       "4990  0.000000  0.0 -0.014407  0.083334  0.846539  0.981079  0.468345   \n",
       "4991 -0.038619  0.0  0.000000  0.000000 -0.026019  0.410966  0.951095   \n",
       "4992 -0.043764  0.0  0.000000  0.000000 -0.037889  0.639510  0.854440   \n",
       "4993 -0.025520  0.0  0.000000  0.000000 -0.034292  0.556631  0.996501   \n",
       "4994  0.001053  0.0  0.000000  0.000000 -0.025498  0.388868  1.045169   \n",
       "4995  0.000000  0.0  0.000000  0.000000 -0.036797  0.647633  0.453300   \n",
       "4996 -0.042064  0.0  0.000000  0.000000 -0.043854  0.725587  1.062155   \n",
       "4997  0.000000  0.0  0.000000  0.000000 -0.004036  0.022999  0.574133   \n",
       "4998 -0.000243  0.0  0.000000  0.000000 -0.002475 -0.007049  0.549986   \n",
       "4999 -0.044351  0.0  0.000000  0.000000 -0.031026  0.507026  0.907500   \n",
       "\n",
       "           207       208           209       210       211       212  \\\n",
       "4990  0.445748  0.436091  6.825225e-01  1.010343  0.468243 -0.029694   \n",
       "4991  0.263750 -0.039285 -2.965562e-02  0.059989  0.683275  1.033038   \n",
       "4992  0.107049 -0.026480 -2.547023e-02  0.199604  0.810096  1.025802   \n",
       "4993  0.399395 -0.028254 -1.811336e-02  0.116110  0.688744  1.027338   \n",
       "4994  0.589549 -0.037717 -1.250049e-02 -0.019106  0.335779  0.975641   \n",
       "4995 -0.025348 -0.021461 -4.270699e-02  0.402884  0.820498  0.106469   \n",
       "4996  0.391034 -0.050441 -9.090295e-03  0.044559  0.686090  1.002653   \n",
       "4997  0.888907  0.881704  7.622939e-01  0.840374  0.966300  0.289337   \n",
       "4998  1.046026  0.554603 -5.944904e-02  0.613744  1.018118  0.989580   \n",
       "4999  0.215307 -0.027198  5.755654e-19  0.000820 -0.029658  0.224610   \n",
       "\n",
       "           213       214  \n",
       "4990  0.000082 -0.005510  \n",
       "4991  0.873496  0.855035  \n",
       "4992  0.584138  0.682844  \n",
       "4993  0.892911  0.746805  \n",
       "4994  1.023033  0.936570  \n",
       "4995 -0.019882 -0.012339  \n",
       "4996  0.915504  0.270314  \n",
       "4997 -0.063227 -0.026421  \n",
       "4998  0.991597  1.031827  \n",
       "4999  0.963670  0.738628  "
      ]
     },
     "execution_count": 124,
     "metadata": {},
     "output_type": "execute_result"
    }
   ],
   "source": [
    "data = loadmat('ex3data1.mat')\n",
    "X, y = data['X'], data['y'].ravel()\n",
    "X = np.concatenate([np.ones((y.size , 1)) ,X], axis =1)\n",
    "m = y.size\n",
    "df =  pd.DataFrame(X)\n",
    "dfX =  pd.DataFrame(X)\n",
    "df['y'] = y\n",
    "#y = y.reshape(y.shape[0],1)\n",
    "#y.shape\n",
    "df.iloc[4990:,200:215]\n"
   ]
  },
  {
   "cell_type": "code",
   "execution_count": 125,
   "metadata": {},
   "outputs": [],
   "source": [
    "input_layer_size  = 400  # 20x20 Input Images of Digits\n",
    "hidden_layer_size = 25   # 25 hidden units\n",
    "num_labels = 10        # 10 labels, from 1 to 10   "
   ]
  },
  {
   "cell_type": "code",
   "execution_count": 126,
   "metadata": {},
   "outputs": [],
   "source": [
    "theta1 , theta2 = loadmat('ex3weights.mat')['Theta1'] , loadmat('ex3weights.mat')['Theta2']"
   ]
  },
  {
   "cell_type": "code",
   "execution_count": 127,
   "metadata": {},
   "outputs": [],
   "source": [
    "    def sigmoid(z):                #sigmoid function\n",
    "        return 1/(1+np.exp(-z))"
   ]
  },
  {
   "cell_type": "code",
   "execution_count": 128,
   "metadata": {},
   "outputs": [
    {
     "data": {
      "text/plain": [
       "array([[1., 0., 0., ..., 0., 0., 0.],\n",
       "       [1., 0., 0., ..., 0., 0., 0.],\n",
       "       [1., 0., 0., ..., 0., 0., 0.],\n",
       "       ...,\n",
       "       [1., 0., 0., ..., 0., 0., 0.],\n",
       "       [1., 0., 0., ..., 0., 0., 0.],\n",
       "       [1., 0., 0., ..., 0., 0., 0.]])"
      ]
     },
     "execution_count": 128,
     "metadata": {},
     "output_type": "execute_result"
    }
   ],
   "source": [
    "def h(theta, X):             #hypothesis function\n",
    "    return sigmoid(np.dot(X, theta))\n",
    "X"
   ]
  },
  {
   "cell_type": "code",
   "execution_count": 129,
   "metadata": {},
   "outputs": [],
   "source": [
    "    hypothesis = np.ones((m,10))\n",
    "    z1 = h(theta1.T, X)\n",
    "    a1 = np.concatenate([np.ones((m,1)), z1] , axis = 1)\n",
    "    a2 = h(theta2.T , a1)"
   ]
  },
  {
   "cell_type": "code",
   "execution_count": 130,
   "metadata": {},
   "outputs": [
    {
     "data": {
      "text/plain": [
       "(5000, 10)"
      ]
     },
     "execution_count": 130,
     "metadata": {},
     "output_type": "execute_result"
    }
   ],
   "source": [
    "a2.shape"
   ]
  },
  {
   "cell_type": "code",
   "execution_count": 131,
   "metadata": {},
   "outputs": [
    {
     "data": {
      "text/plain": [
       "(25, 401)"
      ]
     },
     "execution_count": 131,
     "metadata": {},
     "output_type": "execute_result"
    }
   ],
   "source": [
    "theta1.shape"
   ]
  },
  {
   "cell_type": "code",
   "execution_count": 132,
   "metadata": {},
   "outputs": [
    {
     "data": {
      "text/plain": [
       "array([[1., 0., 0., ..., 0., 0., 0.],\n",
       "       [1., 0., 0., ..., 0., 0., 0.],\n",
       "       [1., 0., 0., ..., 0., 0., 0.],\n",
       "       ...,\n",
       "       [1., 0., 0., ..., 0., 0., 0.],\n",
       "       [1., 0., 0., ..., 0., 0., 0.],\n",
       "       [1., 0., 0., ..., 0., 0., 0.]])"
      ]
     },
     "execution_count": 132,
     "metadata": {},
     "output_type": "execute_result"
    }
   ],
   "source": [
    "X"
   ]
  },
  {
   "cell_type": "code",
   "execution_count": 137,
   "metadata": {},
   "outputs": [
    {
     "data": {
      "text/plain": [
       "array([10, 10, 10, ...,  9,  9,  9])"
      ]
     },
     "execution_count": 137,
     "metadata": {},
     "output_type": "execute_result"
    }
   ],
   "source": [
    "p=np.argmax(a2, axis =1) +1\n",
    "p"
   ]
  },
  {
   "cell_type": "code",
   "execution_count": 135,
   "metadata": {},
   "outputs": [],
   "source": [
    "def accuracy(hypothesis, y):\n",
    "    return y[y==hypothesis].size/m"
   ]
  },
  {
   "cell_type": "code",
   "execution_count": 136,
   "metadata": {},
   "outputs": [
    {
     "data": {
      "text/plain": [
       "0.9752"
      ]
     },
     "execution_count": 136,
     "metadata": {},
     "output_type": "execute_result"
    }
   ],
   "source": [
    "accuracy(p, y)"
   ]
  },
  {
   "cell_type": "code",
   "execution_count": 5,
   "metadata": {},
   "outputs": [
    {
     "data": {
      "text/plain": [
       "array([[-0.10413329, -0.08855674, -0.11718842, -0.0379407 ],\n",
       "       [ 0.10731391,  0.09964343, -0.10785796, -0.04655335],\n",
       "       [ 0.02476425, -0.07492432,  0.11754677,  0.026633  ]])"
      ]
     },
     "execution_count": 5,
     "metadata": {},
     "output_type": "execute_result"
    }
   ],
   "source": [
    "np.random.rand(3,4)*2*0.12-0.12"
   ]
  },
  {
   "cell_type": "code",
   "execution_count": null,
   "metadata": {},
   "outputs": [],
   "source": []
  }
 ],
 "metadata": {
  "kernelspec": {
   "display_name": "Python 3",
   "language": "python",
   "name": "python3"
  },
  "language_info": {
   "codemirror_mode": {
    "name": "ipython",
    "version": 3
   },
   "file_extension": ".py",
   "mimetype": "text/x-python",
   "name": "python",
   "nbconvert_exporter": "python",
   "pygments_lexer": "ipython3",
   "version": "3.6.9"
  }
 },
 "nbformat": 4,
 "nbformat_minor": 2
}
